{
  "cells": [
    {
      "cell_type": "markdown",
      "source": [
        "# Automated ML\n",
        "\n",
        "TODO: Import Dependencies. In the cell below, import all the dependencies that you will need to complete the project."
      ],
      "metadata": {}
    },
    {
      "cell_type": "code",
      "source": [
        "from azureml.core import Workspace, Experiment\n",
        "from azureml.core.compute import AmlCompute\n",
        "from azureml.core.compute import ComputeTarget\n",
        "from azureml.core.compute_target import ComputeTargetException\n",
        "import azureml.core\n",
        "from azureml.core.experiment import Experiment\n",
        "from azureml.core.workspace import Workspace\n",
        "from azureml.train.automl import AutoMLConfig\n",
        "from azureml.core.dataset import Dataset\n",
        "\n",
        "from azureml.pipeline.steps import AutoMLStep\n",
        "from azureml.data.dataset_factory import TabularDatasetFactory"
      ],
      "outputs": [],
      "execution_count": 1,
      "metadata": {
        "gather": {
          "logged": 1707462831496
        },
        "jupyter": {
          "outputs_hidden": false,
          "source_hidden": false
        },
        "nteract": {
          "transient": {
            "deleting": false
          }
        }
      }
    },
    {
      "cell_type": "code",
      "source": [
        "ws = Workspace.from_config()\n",
        "\n",
        "# choose a name for experiment\n",
        "experiment_name = 'automl-capston-1'\n",
        "\n",
        "experiment=Experiment(ws, experiment_name)"
      ],
      "outputs": [],
      "execution_count": 2,
      "metadata": {
        "jupyter": {
          "source_hidden": false,
          "outputs_hidden": false
        },
        "nteract": {
          "transient": {
            "deleting": false
          }
        },
        "gather": {
          "logged": 1707462833511
        }
      }
    },
    {
      "cell_type": "markdown",
      "source": [
        "## Dataset\n",
        "\n",
        "### Overview\n",
        "TODO: In this markdown cell, give an overview of the dataset you are using. Also mention the task you will be performing.\n",
        "\n",
        "\n",
        "TODO: Get data. In the cell below, write code to access the data you will be using in this project. Remember that the dataset needs to be external."
      ],
      "metadata": {}
    },
    {
      "cell_type": "code",
      "source": [
        "example_data = 'https://raw.githubusercontent.com/Keshav-agrawal2829/Heart-data/main/heart_failure_clinical_records_dataset.csv'\n",
        "# dataset = Dataset.Tabular.from_delimited_files(example_data)        \n",
        "#Register Dataset in Workspace\n",
        "dataset = TabularDatasetFactory().from_delimited_files(example_data)\n",
        "key = \"heart_diesease_data\"\n",
        "dataset = dataset.register(workspace=ws,\n",
        "                            name=key,\n",
        "                            description='')\n",
        "\n",
        "df = dataset.to_pandas_dataframe()\n",
        "df.describe()"
      ],
      "outputs": [
        {
          "output_type": "execute_result",
          "execution_count": 3,
          "data": {
            "text/plain": "              age     anaemia  creatinine_phosphokinase    diabetes  \\\ncount  299.000000  299.000000                299.000000  299.000000   \nmean    60.833893    0.431438                581.839465    0.418060   \nstd     11.894809    0.496107                970.287881    0.494067   \nmin     40.000000    0.000000                 23.000000    0.000000   \n25%     51.000000    0.000000                116.500000    0.000000   \n50%     60.000000    0.000000                250.000000    0.000000   \n75%     70.000000    1.000000                582.000000    1.000000   \nmax     95.000000    1.000000               7861.000000    1.000000   \n\n       ejection_fraction  high_blood_pressure      platelets  \\\ncount         299.000000           299.000000     299.000000   \nmean           38.083612             0.351171  263358.029264   \nstd            11.834841             0.478136   97804.236869   \nmin            14.000000             0.000000   25100.000000   \n25%            30.000000             0.000000  212500.000000   \n50%            38.000000             0.000000  262000.000000   \n75%            45.000000             1.000000  303500.000000   \nmax            80.000000             1.000000  850000.000000   \n\n       serum_creatinine  serum_sodium         sex    smoking        time  \\\ncount         299.00000    299.000000  299.000000  299.00000  299.000000   \nmean            1.39388    136.625418    0.648829    0.32107  130.260870   \nstd             1.03451      4.412477    0.478136    0.46767   77.614208   \nmin             0.50000    113.000000    0.000000    0.00000    4.000000   \n25%             0.90000    134.000000    0.000000    0.00000   73.000000   \n50%             1.10000    137.000000    1.000000    0.00000  115.000000   \n75%             1.40000    140.000000    1.000000    1.00000  203.000000   \nmax             9.40000    148.000000    1.000000    1.00000  285.000000   \n\n       DEATH_EVENT  \ncount    299.00000  \nmean       0.32107  \nstd        0.46767  \nmin        0.00000  \n25%        0.00000  \n50%        0.00000  \n75%        1.00000  \nmax        1.00000  ",
            "text/html": "<div>\n<style scoped>\n    .dataframe tbody tr th:only-of-type {\n        vertical-align: middle;\n    }\n\n    .dataframe tbody tr th {\n        vertical-align: top;\n    }\n\n    .dataframe thead th {\n        text-align: right;\n    }\n</style>\n<table border=\"1\" class=\"dataframe\">\n  <thead>\n    <tr style=\"text-align: right;\">\n      <th></th>\n      <th>age</th>\n      <th>anaemia</th>\n      <th>creatinine_phosphokinase</th>\n      <th>diabetes</th>\n      <th>ejection_fraction</th>\n      <th>high_blood_pressure</th>\n      <th>platelets</th>\n      <th>serum_creatinine</th>\n      <th>serum_sodium</th>\n      <th>sex</th>\n      <th>smoking</th>\n      <th>time</th>\n      <th>DEATH_EVENT</th>\n    </tr>\n  </thead>\n  <tbody>\n    <tr>\n      <th>count</th>\n      <td>299.000000</td>\n      <td>299.000000</td>\n      <td>299.000000</td>\n      <td>299.000000</td>\n      <td>299.000000</td>\n      <td>299.000000</td>\n      <td>299.000000</td>\n      <td>299.00000</td>\n      <td>299.000000</td>\n      <td>299.000000</td>\n      <td>299.00000</td>\n      <td>299.000000</td>\n      <td>299.00000</td>\n    </tr>\n    <tr>\n      <th>mean</th>\n      <td>60.833893</td>\n      <td>0.431438</td>\n      <td>581.839465</td>\n      <td>0.418060</td>\n      <td>38.083612</td>\n      <td>0.351171</td>\n      <td>263358.029264</td>\n      <td>1.39388</td>\n      <td>136.625418</td>\n      <td>0.648829</td>\n      <td>0.32107</td>\n      <td>130.260870</td>\n      <td>0.32107</td>\n    </tr>\n    <tr>\n      <th>std</th>\n      <td>11.894809</td>\n      <td>0.496107</td>\n      <td>970.287881</td>\n      <td>0.494067</td>\n      <td>11.834841</td>\n      <td>0.478136</td>\n      <td>97804.236869</td>\n      <td>1.03451</td>\n      <td>4.412477</td>\n      <td>0.478136</td>\n      <td>0.46767</td>\n      <td>77.614208</td>\n      <td>0.46767</td>\n    </tr>\n    <tr>\n      <th>min</th>\n      <td>40.000000</td>\n      <td>0.000000</td>\n      <td>23.000000</td>\n      <td>0.000000</td>\n      <td>14.000000</td>\n      <td>0.000000</td>\n      <td>25100.000000</td>\n      <td>0.50000</td>\n      <td>113.000000</td>\n      <td>0.000000</td>\n      <td>0.00000</td>\n      <td>4.000000</td>\n      <td>0.00000</td>\n    </tr>\n    <tr>\n      <th>25%</th>\n      <td>51.000000</td>\n      <td>0.000000</td>\n      <td>116.500000</td>\n      <td>0.000000</td>\n      <td>30.000000</td>\n      <td>0.000000</td>\n      <td>212500.000000</td>\n      <td>0.90000</td>\n      <td>134.000000</td>\n      <td>0.000000</td>\n      <td>0.00000</td>\n      <td>73.000000</td>\n      <td>0.00000</td>\n    </tr>\n    <tr>\n      <th>50%</th>\n      <td>60.000000</td>\n      <td>0.000000</td>\n      <td>250.000000</td>\n      <td>0.000000</td>\n      <td>38.000000</td>\n      <td>0.000000</td>\n      <td>262000.000000</td>\n      <td>1.10000</td>\n      <td>137.000000</td>\n      <td>1.000000</td>\n      <td>0.00000</td>\n      <td>115.000000</td>\n      <td>0.00000</td>\n    </tr>\n    <tr>\n      <th>75%</th>\n      <td>70.000000</td>\n      <td>1.000000</td>\n      <td>582.000000</td>\n      <td>1.000000</td>\n      <td>45.000000</td>\n      <td>1.000000</td>\n      <td>303500.000000</td>\n      <td>1.40000</td>\n      <td>140.000000</td>\n      <td>1.000000</td>\n      <td>1.00000</td>\n      <td>203.000000</td>\n      <td>1.00000</td>\n    </tr>\n    <tr>\n      <th>max</th>\n      <td>95.000000</td>\n      <td>1.000000</td>\n      <td>7861.000000</td>\n      <td>1.000000</td>\n      <td>80.000000</td>\n      <td>1.000000</td>\n      <td>850000.000000</td>\n      <td>9.40000</td>\n      <td>148.000000</td>\n      <td>1.000000</td>\n      <td>1.00000</td>\n      <td>285.000000</td>\n      <td>1.00000</td>\n    </tr>\n  </tbody>\n</table>\n</div>"
          },
          "metadata": {}
        }
      ],
      "execution_count": 3,
      "metadata": {
        "jupyter": {
          "source_hidden": false,
          "outputs_hidden": false
        },
        "nteract": {
          "transient": {
            "deleting": false
          }
        },
        "gather": {
          "logged": 1707462843032
        }
      }
    },
    {
      "cell_type": "markdown",
      "source": [
        "# Compute\n"
      ],
      "metadata": {
        "nteract": {
          "transient": {
            "deleting": false
          }
        }
      }
    },
    {
      "cell_type": "code",
      "source": [
        "amlcompute_cluster_name = \"notebook252189\"\n",
        "\n",
        "# Verify that cluster does not exist already\n",
        "try:\n",
        "    compute_target = ComputeTarget(workspace=ws, name=amlcompute_cluster_name)\n",
        "    print('Found existing cluster, use it.')\n",
        "except ComputeTargetException:\n",
        "    compute_config = AmlCompute.provisioning_configuration(vm_size='STANDARD_D2_V2',# for GPU, use \"STANDARD_NC6\"\n",
        "                                                           #vm_priority = 'lowpriority', # optional\n",
        "                                                           max_nodes=4)\n",
        "    compute_target = ComputeTarget.create(ws, amlcompute_cluster_name, compute_config)\n",
        "\n",
        "    compute_target.wait_for_completion(show_output=True, min_node_count = 1, timeout_in_minutes = 10)"
      ],
      "outputs": [
        {
          "output_type": "stream",
          "name": "stdout",
          "text": "Found existing cluster, use it.\n"
        }
      ],
      "execution_count": 4,
      "metadata": {
        "jupyter": {
          "source_hidden": false,
          "outputs_hidden": false
        },
        "nteract": {
          "transient": {
            "deleting": false
          }
        },
        "gather": {
          "logged": 1707462845137
        }
      }
    },
    {
      "cell_type": "markdown",
      "source": [
        "## AutoML Configuration\n",
        "\n",
        "TODO: Explain why you chose the automl settings and cofiguration you used below."
      ],
      "metadata": {}
    },
    {
      "cell_type": "code",
      "source": [
        "# TODO: Put your automl settings here\n",
        "automl_settings = {\"experiment_timeout_minutes\": 20,\n",
        "    \"max_concurrent_iterations\": 5,\n",
        "    \"primary_metric\" : 'AUC_weighted'}\n",
        "\n",
        "# TODO: Put your automl config here\n",
        "automl_config = AutoMLConfig(compute_target=compute_target,\n",
        "                             task = \"classification\",\n",
        "                             training_data=dataset,\n",
        "                             label_column_name=\"DEATH_EVENT\",   \n",
        "                             path = './project-pipeline',\n",
        "                             enable_early_stopping= True,\n",
        "                             featurization= 'auto',\n",
        "                             debug_log = \"automl_errors.log\",\n",
        "                             **automl_settings)"
      ],
      "outputs": [],
      "execution_count": 5,
      "metadata": {
        "gather": {
          "logged": 1707462850319
        },
        "jupyter": {
          "outputs_hidden": false,
          "source_hidden": false
        },
        "nteract": {
          "transient": {
            "deleting": false
          }
        }
      }
    },
    {
      "cell_type": "code",
      "source": [
        "# TODO: Submit your experiment\n",
        "remote_run = experiment.submit(automl_config)\n",
        "from azureml.widgets import RunDetails\n",
        "RunDetails(remote_run).show()"
      ],
      "outputs": [
        {
          "output_type": "stream",
          "name": "stdout",
          "text": "Submitting remote run.\n"
        },
        {
          "output_type": "display_data",
          "data": {
            "text/html": "<table style=\"width:100%\"><tr><th>Experiment</th><th>Id</th><th>Type</th><th>Status</th><th>Details Page</th><th>Docs Page</th></tr><tr><td>automl-capston-1</td><td>AutoML_801f076f-8f9e-4370-8baf-fc4dd1357129</td><td>automl</td><td>NotStarted</td><td><a href=\"https://ml.azure.com/runs/AutoML_801f076f-8f9e-4370-8baf-fc4dd1357129?wsid=/subscriptions/a0a76bad-11a1-4a2d-9887-97a29122c8ed/resourcegroups/aml-quickstarts-252189/workspaces/quick-starts-ws-252189&amp;tid=660b3398-b80e-49d2-bc5b-ac1dc93b5254\" target=\"_blank\" rel=\"noopener\">Link to Azure Machine Learning studio</a></td><td><a href=\"https://docs.microsoft.com/en-us/python/api/overview/azure/ml/intro?view=azure-ml-py\" target=\"_blank\" rel=\"noopener\">Link to Documentation</a></td></tr></table>"
          },
          "metadata": {}
        },
        {
          "output_type": "display_data",
          "data": {
            "text/plain": "_AutoMLWidget(widget_settings={'childWidgetDisplay': 'popup', 'send_telemetry': False, 'log_level': 'INFO', 's…",
            "application/vnd.jupyter.widget-view+json": {
              "version_major": 2,
              "version_minor": 0,
              "model_id": "2e8182f0ce46486a85d3027e8c326240"
            }
          },
          "metadata": {}
        },
        {
          "output_type": "display_data",
          "data": {
            "application/aml.mini.widget.v1": "{\"status\": \"Completed\", \"workbench_run_details_uri\": \"https://ml.azure.com/runs/AutoML_801f076f-8f9e-4370-8baf-fc4dd1357129?wsid=/subscriptions/a0a76bad-11a1-4a2d-9887-97a29122c8ed/resourcegroups/aml-quickstarts-252189/workspaces/quick-starts-ws-252189&tid=660b3398-b80e-49d2-bc5b-ac1dc93b5254\", \"run_id\": \"AutoML_801f076f-8f9e-4370-8baf-fc4dd1357129\", \"run_properties\": {\"run_id\": \"AutoML_801f076f-8f9e-4370-8baf-fc4dd1357129\", \"created_utc\": \"2024-02-09T07:14:13.969508Z\", \"properties\": {\"num_iterations\": \"1000\", \"training_type\": \"TrainFull\", \"acquisition_function\": \"EI\", \"primary_metric\": \"AUC_weighted\", \"train_split\": \"0\", \"acquisition_parameter\": \"0\", \"num_cross_validation\": null, \"target\": \"notebook252189\", \"AMLSettingsJsonString\": \"{\\\"path\\\":null,\\\"name\\\":\\\"automl-capston-1\\\",\\\"subscription_id\\\":\\\"a0a76bad-11a1-4a2d-9887-97a29122c8ed\\\",\\\"resource_group\\\":\\\"aml-quickstarts-252189\\\",\\\"workspace_name\\\":\\\"quick-starts-ws-252189\\\",\\\"region\\\":\\\"southcentralus\\\",\\\"compute_target\\\":\\\"notebook252189\\\",\\\"spark_service\\\":null,\\\"azure_service\\\":\\\"remote\\\",\\\"many_models\\\":false,\\\"pipeline_fetch_max_batch_size\\\":1,\\\"enable_batch_run\\\":true,\\\"enable_parallel_run\\\":false,\\\"num_procs\\\":null,\\\"enable_run_restructure\\\":false,\\\"start_auxiliary_runs_before_parent_complete\\\":false,\\\"enable_code_generation\\\":true,\\\"iterations\\\":1000,\\\"primary_metric\\\":\\\"AUC_weighted\\\",\\\"task_type\\\":\\\"classification\\\",\\\"positive_label\\\":null,\\\"data_script\\\":null,\\\"test_size\\\":0.0,\\\"test_include_predictions_only\\\":false,\\\"validation_size\\\":0.0,\\\"n_cross_validations\\\":null,\\\"y_min\\\":null,\\\"y_max\\\":null,\\\"num_classes\\\":null,\\\"featurization\\\":\\\"auto\\\",\\\"_ignore_package_version_incompatibilities\\\":false,\\\"is_timeseries\\\":false,\\\"max_cores_per_iteration\\\":1,\\\"max_concurrent_iterations\\\":5,\\\"iteration_timeout_minutes\\\":null,\\\"mem_in_mb\\\":null,\\\"enforce_time_on_windows\\\":false,\\\"experiment_timeout_minutes\\\":20,\\\"experiment_exit_score\\\":null,\\\"partition_column_names\\\":null,\\\"whitelist_models\\\":null,\\\"blacklist_algos\\\":[\\\"TensorFlowLinearClassifier\\\",\\\"TensorFlowDNN\\\"],\\\"supported_models\\\":[\\\"GradientBoosting\\\",\\\"XGBoostClassifier\\\",\\\"TensorFlowLinearClassifier\\\",\\\"AveragedPerceptronClassifier\\\",\\\"ExtremeRandomTrees\\\",\\\"BernoulliNaiveBayes\\\",\\\"TabnetClassifier\\\",\\\"KNN\\\",\\\"SGD\\\",\\\"RandomForest\\\",\\\"LightGBM\\\",\\\"TensorFlowDNN\\\",\\\"SVM\\\",\\\"MultinomialNaiveBayes\\\",\\\"LogisticRegression\\\",\\\"DecisionTree\\\",\\\"LinearSVM\\\"],\\\"private_models\\\":[],\\\"auto_blacklist\\\":true,\\\"blacklist_samples_reached\\\":false,\\\"exclude_nan_labels\\\":true,\\\"verbosity\\\":20,\\\"_debug_log\\\":\\\"azureml_automl.log\\\",\\\"show_warnings\\\":false,\\\"model_explainability\\\":true,\\\"service_url\\\":null,\\\"sdk_url\\\":null,\\\"sdk_packages\\\":null,\\\"enable_onnx_compatible_models\\\":false,\\\"enable_split_onnx_featurizer_estimator_models\\\":false,\\\"vm_type\\\":\\\"Standard_DS3_v2\\\",\\\"telemetry_verbosity\\\":20,\\\"send_telemetry\\\":true,\\\"enable_dnn\\\":false,\\\"scenario\\\":\\\"AutoML\\\",\\\"environment_label\\\":null,\\\"save_mlflow\\\":false,\\\"enable_categorical_indicators\\\":false,\\\"force_text_dnn\\\":false,\\\"enable_feature_sweeping\\\":true,\\\"enable_early_stopping\\\":true,\\\"early_stopping_n_iters\\\":10,\\\"arguments\\\":null,\\\"dataset_id\\\":\\\"44801572-eb84-4bd0-bd39-d4f643bbe98b\\\",\\\"hyperdrive_config\\\":null,\\\"validation_dataset_id\\\":null,\\\"run_source\\\":null,\\\"metrics\\\":null,\\\"enable_metric_confidence\\\":false,\\\"enable_ensembling\\\":true,\\\"enable_stack_ensembling\\\":true,\\\"ensemble_iterations\\\":15,\\\"enable_tf\\\":false,\\\"enable_subsampling\\\":null,\\\"subsample_seed\\\":null,\\\"enable_nimbusml\\\":false,\\\"enable_streaming\\\":false,\\\"force_streaming\\\":false,\\\"track_child_runs\\\":true,\\\"n_best_runs\\\":1,\\\"allowed_private_models\\\":[],\\\"label_column_name\\\":\\\"DEATH_EVENT\\\",\\\"weight_column_name\\\":null,\\\"cv_split_column_names\\\":null,\\\"enable_local_managed\\\":false,\\\"_local_managed_run_id\\\":null,\\\"cost_mode\\\":1,\\\"lag_length\\\":0,\\\"metric_operation\\\":\\\"maximize\\\",\\\"preprocess\\\":true}\", \"DataPrepJsonString\": \"{\\\\\\\"training_data\\\\\\\": {\\\\\\\"datasetId\\\\\\\": \\\\\\\"44801572-eb84-4bd0-bd39-d4f643bbe98b\\\\\\\"}, \\\\\\\"datasets\\\\\\\": 0}\", \"EnableSubsampling\": null, \"runTemplate\": \"AutoML\", \"azureml.runsource\": \"automl\", \"display_task_type\": \"classification\", \"dependencies_versions\": \"{\\\"azureml-dataprep-native\\\": \\\"38.0.0\\\", \\\"azureml-dataprep\\\": \\\"4.10.8\\\", \\\"azureml-dataprep-rslex\\\": \\\"2.17.12\\\", \\\"azureml-train-automl-runtime\\\": \\\"1.51.0.post2\\\", \\\"azureml-train-automl-client\\\": \\\"1.51.0.post1\\\", \\\"azureml-training-tabular\\\": \\\"1.51.0.post1\\\", \\\"azureml-automl-runtime\\\": \\\"1.51.0.post1\\\", \\\"azureml-automl-core\\\": \\\"1.51.0.post1\\\", \\\"azureml-mlflow\\\": \\\"1.51.0\\\", \\\"azureml-datadrift\\\": \\\"1.51.0\\\", \\\"azureml-pipeline\\\": \\\"1.51.0\\\", \\\"azureml-contrib-dataset\\\": \\\"1.51.0\\\", \\\"azureml-contrib-notebook\\\": \\\"1.51.0\\\", \\\"azureml-accel-models\\\": \\\"1.51.0\\\", \\\"azureml-automl-dnn-nlp\\\": \\\"1.51.0\\\", \\\"azureml-pipeline-core\\\": \\\"1.51.0\\\", \\\"azureml-responsibleai\\\": \\\"1.51.0\\\", \\\"azureml-contrib-automl-pipeline-steps\\\": \\\"1.51.0\\\", \\\"azureml-pipeline-steps\\\": \\\"1.51.0\\\", \\\"azureml-core\\\": \\\"1.51.0\\\", \\\"azureml-contrib-reinforcementlearning\\\": \\\"1.51.0\\\", \\\"azureml-contrib-server\\\": \\\"1.51.0\\\", \\\"azureml-opendatasets\\\": \\\"1.51.0\\\", \\\"azureml-contrib-services\\\": \\\"1.51.0\\\", \\\"azureml-telemetry\\\": \\\"1.51.0\\\", \\\"azureml-train-restclients-hyperdrive\\\": \\\"1.51.0\\\", \\\"azureml-interpret\\\": \\\"1.51.0\\\", \\\"azureml-train-core\\\": \\\"1.51.0\\\", \\\"azureml-tensorboard\\\": \\\"1.51.0\\\", \\\"azureml-train\\\": \\\"1.51.0\\\", \\\"azureml-contrib-pipeline-steps\\\": \\\"1.51.0\\\", \\\"azureml-explain-model\\\": \\\"1.51.0\\\", \\\"azureml-cli-common\\\": \\\"1.51.0\\\", \\\"azureml-widgets\\\": \\\"1.51.0\\\", \\\"azureml-train-automl\\\": \\\"1.51.0\\\", \\\"azureml-defaults\\\": \\\"1.51.0\\\", \\\"azureml-contrib-fairness\\\": \\\"1.51.0\\\", \\\"azureml-sdk\\\": \\\"1.51.0\\\", \\\"azureml-dataset-runtime\\\": \\\"1.51.0\\\", \\\"azureml-inference-server-http\\\": \\\"0.8.4\\\"}\", \"_aml_system_scenario_identification\": \"Remote.Parent\", \"ClientType\": \"SDK\", \"PlatformVersion\": \"DPV1\", \"environment_cpu_name\": \"AzureML-AutoML\", \"environment_cpu_label\": \"scikit-upgrade2\", \"environment_gpu_name\": \"AzureML-AutoML-GPU\", \"environment_gpu_label\": \"scikit-upgrade2\", \"root_attribution\": \"automl\", \"attribution\": \"AutoML\", \"Orchestrator\": \"AutoML\", \"CancelUri\": \"https://southcentralus.api.azureml.ms/jasmine/v1.0/subscriptions/a0a76bad-11a1-4a2d-9887-97a29122c8ed/resourceGroups/aml-quickstarts-252189/providers/Microsoft.MachineLearningServices/workspaces/quick-starts-ws-252189/experimentids/8d54c96c-0e0a-405e-9000-9e7287b3a50b/cancel/AutoML_801f076f-8f9e-4370-8baf-fc4dd1357129\", \"ClientSdkVersion\": null, \"snapshotId\": \"00000000-0000-0000-0000-000000000000\", \"SetupRunId\": \"AutoML_801f076f-8f9e-4370-8baf-fc4dd1357129_setup\", \"SetupRunContainerId\": \"dcid.AutoML_801f076f-8f9e-4370-8baf-fc4dd1357129_setup\", \"FeaturizationRunJsonPath\": \"featurizer_container.json\", \"FeaturizationRunId\": \"AutoML_801f076f-8f9e-4370-8baf-fc4dd1357129_featurize\", \"ProblemInfoJsonString\": \"{\\\"dataset_num_categorical\\\": 0, \\\"is_sparse\\\": false, \\\"subsampling\\\": false, \\\"has_extra_col\\\": true, \\\"dataset_classes\\\": 2, \\\"dataset_features\\\": 12, \\\"dataset_samples\\\": 299, \\\"single_frequency_class_detected\\\": false}\", \"ModelExplainRunId\": \"AutoML_801f076f-8f9e-4370-8baf-fc4dd1357129_ModelExplain\"}, \"tags\": {\"model_explain_run\": \"best_run\", \"_aml_system_automl_run_workspace_id\": \"e0da22d5-db53-4bf9-8b05-3fa7782be84e\", \"_aml_system_azureml.automlComponent\": \"AutoML\", \"pipeline_id_000\": \"039a99c3d5147edeb525249e2660628be3e8b83f;e92a63ad06df7b68a48ce96c06fad3fbf2a25ce2;5dfac790c5c209f98a1da2dc1c7fb76f0397324f;294650ec23bc3d067a4972de7ceb12f6e97260fa;a18bd1af1629e8f96b25a32ac94e62b3bd9a9605;5bc24cef89e67ee668d55e59548e1032cfbc7f0f;c7af0367625be6ac5c2fecbfc72ed444cb7a2111;634afb4b36be9286ca21289f56b5f7cdf1c72fa9;a3dadd95854bf6116ab454844302b51d417d78b7;51ae05309834b29f71340af1008fc94fbd8213f4;516a24fb1445632ecf04366c17b960ce157878b3;b983b703e4d6dbffd4a815a4d1c2ed94225c5027;ce2643edf3d450b10c86c7d034a9bc952dc282d3;1dfdf370ba770047b14bfa59c40920815defcdab;681a59302459aec2cc115ddbc14e1d28f4b3b8df;088b94df63b852cc8cba96bb2fa191ce8d1ef2e5;4f207270c6817858b81b8050f1efa1d0053db52e;7ea0a64582be36507254a026ac98e9a5a49e1f34;6f4a466f84f725a47910c1dff062a1bb46df2a21;dea7fdbaedc77258dbfe31dbfed41e768ca38939;c74787cd2f0507b852a1ac70d504d83ac9bdec83;9610149fbcf43017aa810a290e9c04cbe6fa8684;a72eb56f3d4aadb7b7f0149ba6e5f05657a95ca1;1e38ae92baee19b18f211a8b14c16015d5ee3dc3;a7434e890cabef86b0ce4ae71fb633e1e92b854d;18df6f7c8ab9671ee27b80e6edc9861a31350e57;a6aff70a5f74de6016ac718c58f335a42277a713;de5498303022d1619f483f3eee6fec99beb02365;c5b7ff96dae6e4fd54a48879db864ad94b669298;3856cbbc7244eed4f1a37e49e295dc62a83a0a0e;081fcc1e391bd70ed67155e18e2eedbe9e4124ad;9efae90e82545fe25eb9300a00f6c3078e8fede4;bd33e7117e533f927bd8085c70ea521239a9fb67;0cedab002fbfee12d51947713a8e419657dde703;b19eeb61727e9c4fbb5aa45fb6e9fe3fab5b1f04;4828a4ab5e8262a32c7aab00e3e1b94f51675bf0;aa9bb1be0fdd90d85173de50544a9c238007a00e;ac1ff2849edac57151264e1ad3d0f75b66637bda;e5928c0176a09a663dc6c1dc1cbe209fa9c2eef0;64fb49efe514abb65dd69469e46129585f6960cd;a15280d0efcbf47440aa56c30f67f5905d5b7ad7;d94789ecf0b6084791fa7d1e8af3d45c373c7a88;4f67618290a624e350dc7360d24cf2eda8b7bc1d;__AutoML_Ensemble__;__AutoML_Stack_Ensemble__\", \"score_000\": \"0.9028265218381921;0.8332658768957968;0.8952333600250076;0.896011277094801;0.5058572603005097;0.902766962779148;0.8991812818442682;0.7464011599733854;0.8745696242692811;0.8893637006988264;0.8638387105774978;0.8907129549004263;0.8971490819439903;0.8956564192100807;0.8974392617743303;0.7998573570234326;0.9046970154305395;0.8919090071467647;0.8808186107286222;0.8752201172947741;0.8960912485429647;0.9025807023597642;0.9071365918364203;0.867422648766184;0.9127392375316861;0.906720243571159;0.8792161109019805;0.8758299674306539;0.8771713325914698;0.9007338212131117;0.7389316613888697;0.903852486123081;0.9089069651236127;0.8922099693541055;0.9046207515384861;0.893309860289723;0.868969542130469;0.8935964164501063;0.9101636411516273;0.908372328658713;0.8966648711149855;NaN;NaN;0.919791077358526;0.9152017053778497\", \"predicted_cost_000\": \"0.5;0.5;0;0.5;0.5;0.5;0;0.5;0.5;0.5;0.5;0.5;0.5;0.5;0.5;0.5;0.5;0.5;0.5;0.5;0.025458437638750796;0.0382741214302066;0.0123438549550421;0.06264065844434426;0.2657438314848197;0.022558260369385033;0.12101536866036765;0.15661783809881646;0.11428999579615416;0.014207792470276329;0.1708066065823173;0.030076376012706026;0.12211469001115925;0.11693900203516867;0.023420279074527192;0.05726175465249325;0.01140042501849211;0.050808099330645416;0.045497050986605045;0.2186359247403882;0.061915299583278266;0.04758709098630268;0.07774362229018136;0;0\", \"fit_time_000\": \"0.0200981;0.0055313;0.028841099999999998;0.022840199999999998;0.0032007;0.0629643;0.047713900000000004;0.0041572;0.011351700000000001;0.014720800000000001;0.007722700000000001;0.0309237;0.016783200000000005;0.1757665;0.016651100000000002;0.0198866;0.06344989999999999;0.031597200000000006;0.015547700000000001;0.45278789999999997;0.018815699999999998;0.0166899;0.1449741;0.017049;0.23746639999999997;0.1261707;0.2789916;0.2653597;0.6173544000000001;0.0182397;0.21502159999999998;0.019852;0.03819000000000001;0.0313285;0.0216552;0.0640779;0.0211007;0.0187208;0.4830406;0.16045229999999996;0.2573274;NaN;NaN;28;33\", \"training_percent_000\": \"100;100;100;100;100;100;100;100;100;100;100;100;100;100;100;100;100;100;100;100;100;100;100;100;100;100;100;100;100;100;100;100;100;100;100;100;100;100;100;100;100;100;100;100;100\", \"iteration_000\": \"4;8;0;12;5;9;1;13;6;2;10;14;3;7;15;11;16;17;18;19;20;22;21;23;24;26;25;27;28;29;30;31;32;33;34;35;36;37;38;39;40;42;41;43;44\", \"run_preprocessor_000\": \"StandardScalerWrapper;RobustScaler;MaxAbsScaler;StandardScalerWrapper;StandardScalerWrapper;MinMaxScaler;MaxAbsScaler;SparseNormalizer;SparseNormalizer;MaxAbsScaler;StandardScalerWrapper;RobustScaler;MaxAbsScaler;SparseNormalizer;SparseNormalizer;StandardScalerWrapper;MinMaxScaler;MinMaxScaler;SparseNormalizer;MaxAbsScaler;StandardScalerWrapper;MaxAbsScaler;StandardScalerWrapper;MaxAbsScaler;StandardScalerWrapper;MinMaxScaler;StandardScalerWrapper;StandardScalerWrapper;MaxAbsScaler;MaxAbsScaler;MaxAbsScaler;MinMaxScaler;RobustScaler;StandardScalerWrapper;MinMaxScaler;RobustScaler;StandardScalerWrapper;StandardScalerWrapper;RobustScaler;StandardScalerWrapper;MaxAbsScaler;;StandardScalerWrapper;;\", \"run_algorithm_000\": \"LightGBM;KNN;LightGBM;XGBoostClassifier;KNN;RandomForest;XGBoostClassifier;KNN;XGBoostClassifier;ExtremeRandomTrees;LogisticRegression;ExtremeRandomTrees;RandomForest;RandomForest;XGBoostClassifier;SVM;ExtremeRandomTrees;ExtremeRandomTrees;LightGBM;ExtremeRandomTrees;XGBoostClassifier;LightGBM;RandomForest;LogisticRegression;ExtremeRandomTrees;RandomForest;RandomForest;ExtremeRandomTrees;ExtremeRandomTrees;LightGBM;ExtremeRandomTrees;LightGBM;LightGBM;XGBoostClassifier;RandomForest;ExtremeRandomTrees;SVM;XGBoostClassifier;ExtremeRandomTrees;XGBoostClassifier;ExtremeRandomTrees;;GradientBoosting;VotingEnsemble;StackEnsemble\", \"dynamic_allowlisting_iterations\": \"<25>;<30>;<35>;<40>;\", \"_aml_system_azureml.automl_early_exit_message\": \"No scores improved over last 10 iterations, so experiment stopped early. This early stopping behavior can be disabled by setting enable_early_stopping = False in AutoMLConfig for notebook/python SDK runs.\", \"automl_best_child_run_id\": \"AutoML_801f076f-8f9e-4370-8baf-fc4dd1357129_43\", \"model_explain_best_run_child_id\": \"AutoML_801f076f-8f9e-4370-8baf-fc4dd1357129_43\"}, \"end_time_utc\": \"2024-02-09T07:22:39.464996Z\", \"status\": \"Completed\", \"log_files\": {}, \"log_groups\": [], \"run_duration\": \"0:08:25\", \"run_number\": \"1707462853\", \"run_queued_details\": {\"status\": \"Completed\", \"details\": null}}, \"child_runs\": [{\"run_id\": \"AutoML_801f076f-8f9e-4370-8baf-fc4dd1357129_setup\", \"run_number\": 1707462866, \"metric\": null, \"status\": \"Completed\", \"run_type\": \"azureml.scriptrun\", \"training_percent\": null, \"start_time\": \"2024-02-09T07:14:34.868472Z\", \"end_time\": \"2024-02-09T07:15:28.552047Z\", \"created_time\": \"2024-02-09T07:14:26.550494Z\", \"created_time_dt\": \"2024-02-09T07:14:26.550494Z\", \"duration\": \"0:01:02\", \"iteration\": null, \"goal\": null, \"run_name\": \"Completed\", \"run_properties\": null}, {\"run_id\": \"AutoML_801f076f-8f9e-4370-8baf-fc4dd1357129_featurize\", \"run_number\": 1707462928, \"metric\": null, \"status\": \"Completed\", \"run_type\": \"automl.featurization\", \"training_percent\": null, \"start_time\": \"2024-02-09T07:15:29.196807Z\", \"end_time\": \"2024-02-09T07:16:09.983256Z\", \"created_time\": \"2024-02-09T07:15:28.811623Z\", \"created_time_dt\": \"2024-02-09T07:15:28.811623Z\", \"duration\": \"0:00:41\", \"iteration\": null, \"goal\": null, \"run_name\": \"Completed\", \"run_properties\": null}, {\"run_id\": \"AutoML_801f076f-8f9e-4370-8baf-fc4dd1357129_0\", \"run_number\": 1707462971, \"metric\": null, \"status\": \"Completed\", \"run_type\": null, \"training_percent\": \"100\", \"start_time\": \"2024-02-09T07:16:34.767259Z\", \"end_time\": \"2024-02-09T07:16:48.48682Z\", \"created_time\": \"2024-02-09T07:16:11.40749Z\", \"created_time_dt\": \"2024-02-09T07:16:11.40749Z\", \"duration\": \"0:00:37\", \"iteration\": \"0\", \"goal\": \"AUC_weighted_max\", \"run_name\": \"MaxAbsScaler, LightGBM\", \"run_properties\": \"copy=True\", \"primary_metric\": 0.89523336, \"best_metric\": 0.89523336}, {\"run_id\": \"AutoML_801f076f-8f9e-4370-8baf-fc4dd1357129_2\", \"run_number\": 1707462972, \"metric\": null, \"status\": \"Completed\", \"run_type\": null, \"training_percent\": \"100\", \"start_time\": \"2024-02-09T07:17:01.536214Z\", \"end_time\": \"2024-02-09T07:17:12.692327Z\", \"created_time\": \"2024-02-09T07:16:12.518503Z\", \"created_time_dt\": \"2024-02-09T07:16:12.518503Z\", \"duration\": \"0:01:00\", \"iteration\": \"2\", \"goal\": \"AUC_weighted_max\", \"run_name\": \"MaxAbsScaler, ExtremeRandomTrees\", \"run_properties\": \"copy=True\", \"primary_metric\": 0.8893637, \"best_metric\": 0.89523336}, {\"run_id\": \"AutoML_801f076f-8f9e-4370-8baf-fc4dd1357129_worker_0\", \"run_number\": 1707462973, \"metric\": null, \"status\": \"Completed\", \"run_type\": \"azureml.scriptrun\", \"training_percent\": null, \"start_time\": \"2024-02-09T07:16:20.164582Z\", \"end_time\": \"2024-02-09T07:17:30.653322Z\", \"created_time\": \"2024-02-09T07:16:13.285033Z\", \"created_time_dt\": \"2024-02-09T07:16:13.285033Z\", \"duration\": \"0:01:17\", \"iteration\": null, \"goal\": null, \"run_name\": \"Completed\", \"run_properties\": null}, {\"run_id\": \"AutoML_801f076f-8f9e-4370-8baf-fc4dd1357129_6\", \"run_number\": 1707462974, \"metric\": null, \"status\": \"Completed\", \"run_type\": null, \"training_percent\": \"100\", \"start_time\": \"2024-02-09T07:16:59.818826Z\", \"end_time\": \"2024-02-09T07:17:10.890682Z\", \"created_time\": \"2024-02-09T07:16:14.606582Z\", \"created_time_dt\": \"2024-02-09T07:16:14.606582Z\", \"duration\": \"0:00:56\", \"iteration\": \"6\", \"goal\": \"AUC_weighted_max\", \"run_name\": \"SparseNormalizer, XGBoostClassifier\", \"run_properties\": \"copy=True, norm='max'\", \"primary_metric\": 0.87456962, \"best_metric\": 0.89523336}, {\"run_id\": \"AutoML_801f076f-8f9e-4370-8baf-fc4dd1357129_worker_1\", \"run_number\": 1707462975, \"metric\": null, \"status\": \"Completed\", \"run_type\": \"azureml.scriptrun\", \"training_percent\": null, \"start_time\": \"2024-02-09T07:16:22.678308Z\", \"end_time\": \"2024-02-09T07:17:30.531162Z\", \"created_time\": \"2024-02-09T07:16:15.34593Z\", \"created_time_dt\": \"2024-02-09T07:16:15.34593Z\", \"duration\": \"0:01:15\", \"iteration\": null, \"goal\": null, \"run_name\": \"Completed\", \"run_properties\": null}, {\"run_id\": \"AutoML_801f076f-8f9e-4370-8baf-fc4dd1357129_9\", \"run_number\": 1707462976, \"metric\": null, \"status\": \"Completed\", \"run_type\": null, \"training_percent\": \"100\", \"start_time\": \"2024-02-09T07:16:49.184612Z\", \"end_time\": \"2024-02-09T07:17:00.713781Z\", \"created_time\": \"2024-02-09T07:16:16.135603Z\", \"created_time_dt\": \"2024-02-09T07:16:16.135603Z\", \"duration\": \"0:00:44\", \"iteration\": \"9\", \"goal\": \"AUC_weighted_max\", \"run_name\": \"MinMaxScaler, RandomForest\", \"run_properties\": \"copy=True, feature_range=(0, 1\", \"primary_metric\": 0.90276696, \"best_metric\": 0.90276696}, {\"run_id\": \"AutoML_801f076f-8f9e-4370-8baf-fc4dd1357129_worker_2\", \"run_number\": 1707462977, \"metric\": null, \"status\": \"Completed\", \"run_type\": \"azureml.scriptrun\", \"training_percent\": null, \"start_time\": \"2024-02-09T07:16:24.782363Z\", \"end_time\": \"2024-02-09T07:17:30.74508Z\", \"created_time\": \"2024-02-09T07:16:17.442162Z\", \"created_time_dt\": \"2024-02-09T07:16:17.442162Z\", \"duration\": \"0:01:13\", \"iteration\": null, \"goal\": null, \"run_name\": \"Completed\", \"run_properties\": null}, {\"run_id\": \"AutoML_801f076f-8f9e-4370-8baf-fc4dd1357129_13\", \"run_number\": 1707462978, \"metric\": null, \"status\": \"Completed\", \"run_type\": null, \"training_percent\": \"100\", \"start_time\": \"2024-02-09T07:16:51.278074Z\", \"end_time\": \"2024-02-09T07:17:01.966251Z\", \"created_time\": \"2024-02-09T07:16:18.098903Z\", \"created_time_dt\": \"2024-02-09T07:16:18.098903Z\", \"duration\": \"0:00:43\", \"iteration\": \"13\", \"goal\": \"AUC_weighted_max\", \"run_name\": \"SparseNormalizer, KNN\", \"run_properties\": \"copy=True, norm='max'\", \"primary_metric\": 0.74640116, \"best_metric\": 0.90276696}, {\"run_id\": \"AutoML_801f076f-8f9e-4370-8baf-fc4dd1357129_worker_3\", \"run_number\": 1707462979, \"metric\": null, \"status\": \"Completed\", \"run_type\": \"azureml.scriptrun\", \"training_percent\": null, \"start_time\": \"2024-02-09T07:16:27.6036Z\", \"end_time\": \"2024-02-09T07:17:30.899145Z\", \"created_time\": \"2024-02-09T07:16:19.312047Z\", \"created_time_dt\": \"2024-02-09T07:16:19.312047Z\", \"duration\": \"0:01:11\", \"iteration\": null, \"goal\": null, \"run_name\": \"Completed\", \"run_properties\": null}, {\"run_id\": \"AutoML_801f076f-8f9e-4370-8baf-fc4dd1357129_18\", \"run_number\": 1707462980, \"metric\": null, \"status\": \"Completed\", \"run_type\": null, \"training_percent\": \"100\", \"start_time\": \"2024-02-09T07:18:03.261923Z\", \"end_time\": \"2024-02-09T07:18:15.708939Z\", \"created_time\": \"2024-02-09T07:16:20.544467Z\", \"created_time_dt\": \"2024-02-09T07:16:20.544467Z\", \"duration\": \"0:01:55\", \"iteration\": \"18\", \"goal\": \"AUC_weighted_max\", \"run_name\": \"SparseNormalizer, LightGBM\", \"run_properties\": \"copy=True, norm='l1'\", \"primary_metric\": 0.88081861, \"best_metric\": 0.90276696}, {\"run_id\": \"AutoML_801f076f-8f9e-4370-8baf-fc4dd1357129_worker_4\", \"run_number\": 1707462981, \"metric\": null, \"status\": \"Completed\", \"run_type\": \"azureml.scriptrun\", \"training_percent\": null, \"start_time\": \"2024-02-09T07:17:31.186179Z\", \"end_time\": \"2024-02-09T07:18:38.782867Z\", \"created_time\": \"2024-02-09T07:16:21.268304Z\", \"created_time_dt\": \"2024-02-09T07:16:21.268304Z\", \"duration\": \"0:02:17\", \"iteration\": null, \"goal\": null, \"run_name\": \"Completed\", \"run_properties\": null}, {\"run_id\": \"AutoML_801f076f-8f9e-4370-8baf-fc4dd1357129_20\", \"run_number\": 1707463075, \"metric\": null, \"status\": \"Completed\", \"run_type\": \"azureml.scriptrun\", \"training_percent\": \"100\", \"start_time\": \"2024-02-09T07:18:02.137579Z\", \"end_time\": \"2024-02-09T07:18:33.079218Z\", \"created_time\": \"2024-02-09T07:17:55.145648Z\", \"created_time_dt\": \"2024-02-09T07:17:55.145648Z\", \"duration\": \"0:00:37\", \"iteration\": \"20\", \"goal\": \"AUC_weighted_max\", \"run_name\": \"StandardScalerWrapper, XGBoostClassifier\", \"run_properties\": \"copy=True, with_mean=False, with_std=False\", \"primary_metric\": 0.89609125, \"best_metric\": 0.90276696}, {\"run_id\": \"AutoML_801f076f-8f9e-4370-8baf-fc4dd1357129_24\", \"run_number\": 1707463116, \"metric\": null, \"status\": \"Completed\", \"run_type\": \"azureml.scriptrun\", \"training_percent\": \"100\", \"start_time\": \"2024-02-09T07:18:44.127111Z\", \"end_time\": \"2024-02-09T07:19:16.345176Z\", \"created_time\": \"2024-02-09T07:18:36.624791Z\", \"created_time_dt\": \"2024-02-09T07:18:36.624791Z\", \"duration\": \"0:00:39\", \"iteration\": \"24\", \"goal\": \"AUC_weighted_max\", \"run_name\": \"StandardScalerWrapper, ExtremeRandomTrees\", \"run_properties\": \"copy=True, with_mean=False, with_std=True\", \"primary_metric\": 0.91273924, \"best_metric\": 0.91273924}, {\"run_id\": \"AutoML_801f076f-8f9e-4370-8baf-fc4dd1357129_25\", \"run_number\": 1707463119, \"metric\": null, \"status\": \"Completed\", \"run_type\": \"azureml.scriptrun\", \"training_percent\": \"100\", \"start_time\": \"2024-02-09T07:18:46.816469Z\", \"end_time\": \"2024-02-09T07:19:20.8941Z\", \"created_time\": \"2024-02-09T07:18:39.89256Z\", \"created_time_dt\": \"2024-02-09T07:18:39.89256Z\", \"duration\": \"0:00:41\", \"iteration\": \"25\", \"goal\": \"AUC_weighted_max\", \"run_name\": \"StandardScalerWrapper, RandomForest\", \"run_properties\": \"copy=True, with_mean=True, with_std=True\", \"primary_metric\": 0.87921611, \"best_metric\": 0.91273924}, {\"run_id\": \"AutoML_801f076f-8f9e-4370-8baf-fc4dd1357129_27\", \"run_number\": 1707463122, \"metric\": null, \"status\": \"Completed\", \"run_type\": \"azureml.scriptrun\", \"training_percent\": \"100\", \"start_time\": \"2024-02-09T07:19:04.646494Z\", \"end_time\": \"2024-02-09T07:19:36.540362Z\", \"created_time\": \"2024-02-09T07:18:42.199721Z\", \"created_time_dt\": \"2024-02-09T07:18:42.199721Z\", \"duration\": \"0:00:54\", \"iteration\": \"27\", \"goal\": \"AUC_weighted_max\", \"run_name\": \"StandardScalerWrapper, ExtremeRandomTrees\", \"run_properties\": \"copy=True, with_mean=True, with_std=True\", \"primary_metric\": 0.87582997, \"best_metric\": 0.91273924}, {\"run_id\": \"AutoML_801f076f-8f9e-4370-8baf-fc4dd1357129_28\", \"run_number\": 1707463145, \"metric\": null, \"status\": \"Completed\", \"run_type\": \"azureml.scriptrun\", \"training_percent\": \"100\", \"start_time\": \"2024-02-09T07:19:17.044081Z\", \"end_time\": \"2024-02-09T07:19:52.95223Z\", \"created_time\": \"2024-02-09T07:19:05.306056Z\", \"created_time_dt\": \"2024-02-09T07:19:05.306056Z\", \"duration\": \"0:00:47\", \"iteration\": \"28\", \"goal\": \"AUC_weighted_max\", \"run_name\": \"MaxAbsScaler, ExtremeRandomTrees\", \"run_properties\": \"copy=True\", \"primary_metric\": 0.87717133, \"best_metric\": 0.91273924}, {\"run_id\": \"AutoML_801f076f-8f9e-4370-8baf-fc4dd1357129_29\", \"run_number\": 1707463157, \"metric\": null, \"status\": \"Completed\", \"run_type\": \"azureml.scriptrun\", \"training_percent\": \"100\", \"start_time\": \"2024-02-09T07:19:24.708814Z\", \"end_time\": \"2024-02-09T07:19:55.453069Z\", \"created_time\": \"2024-02-09T07:19:17.806359Z\", \"created_time_dt\": \"2024-02-09T07:19:17.806359Z\", \"duration\": \"0:00:37\", \"iteration\": \"29\", \"goal\": \"AUC_weighted_max\", \"run_name\": \"MaxAbsScaler, LightGBM\", \"run_properties\": \"copy=True\", \"primary_metric\": 0.90073382, \"best_metric\": 0.91273924}, {\"run_id\": \"AutoML_801f076f-8f9e-4370-8baf-fc4dd1357129_30\", \"run_number\": 1707463161, \"metric\": null, \"status\": \"Completed\", \"run_type\": \"azureml.scriptrun\", \"training_percent\": \"100\", \"start_time\": \"2024-02-09T07:19:28.66465Z\", \"end_time\": \"2024-02-09T07:19:59.92291Z\", \"created_time\": \"2024-02-09T07:19:21.809399Z\", \"created_time_dt\": \"2024-02-09T07:19:21.809399Z\", \"duration\": \"0:00:38\", \"iteration\": \"30\", \"goal\": \"AUC_weighted_max\", \"run_name\": \"MaxAbsScaler, ExtremeRandomTrees\", \"run_properties\": \"copy=True\", \"primary_metric\": 0.73893166, \"best_metric\": 0.91273924}, {\"run_id\": \"AutoML_801f076f-8f9e-4370-8baf-fc4dd1357129_31\", \"run_number\": 1707463163, \"metric\": null, \"status\": \"Completed\", \"run_type\": \"azureml.scriptrun\", \"training_percent\": \"100\", \"start_time\": \"2024-02-09T07:19:37.277017Z\", \"end_time\": \"2024-02-09T07:20:05.734345Z\", \"created_time\": \"2024-02-09T07:19:23.905743Z\", \"created_time_dt\": \"2024-02-09T07:19:23.905743Z\", \"duration\": \"0:00:41\", \"iteration\": \"31\", \"goal\": \"AUC_weighted_max\", \"run_name\": \"MinMaxScaler, LightGBM\", \"run_properties\": \"copy=True, feature_range=(0, 1\", \"primary_metric\": 0.90385249, \"best_metric\": 0.91273924}, {\"run_id\": \"AutoML_801f076f-8f9e-4370-8baf-fc4dd1357129_32\", \"run_number\": 1707463178, \"metric\": null, \"status\": \"Completed\", \"run_type\": \"azureml.scriptrun\", \"training_percent\": \"100\", \"start_time\": \"2024-02-09T07:19:53.629789Z\", \"end_time\": \"2024-02-09T07:20:23.808396Z\", \"created_time\": \"2024-02-09T07:19:37.995518Z\", \"created_time_dt\": \"2024-02-09T07:19:37.995518Z\", \"duration\": \"0:00:45\", \"iteration\": \"32\", \"goal\": \"AUC_weighted_max\", \"run_name\": \"RobustScaler, LightGBM\", \"run_properties\": \"copy=True, quantile_range=[25, 75], with_centering=True,\\n             with_scaling=True\", \"primary_metric\": 0.90890697, \"best_metric\": 0.91273924}, {\"run_id\": \"AutoML_801f076f-8f9e-4370-8baf-fc4dd1357129_33\", \"run_number\": 1707463194, \"metric\": null, \"status\": \"Completed\", \"run_type\": \"azureml.scriptrun\", \"training_percent\": \"100\", \"start_time\": \"2024-02-09T07:20:01.66926Z\", \"end_time\": \"2024-02-09T07:20:32.358788Z\", \"created_time\": \"2024-02-09T07:19:54.618073Z\", \"created_time_dt\": \"2024-02-09T07:19:54.618073Z\", \"duration\": \"0:00:37\", \"iteration\": \"33\", \"goal\": \"AUC_weighted_max\", \"run_name\": \"StandardScalerWrapper, XGBoostClassifier\", \"run_properties\": \"copy=True, with_mean=False, with_std=False\", \"primary_metric\": 0.89220997, \"best_metric\": 0.91273924}, {\"run_id\": \"AutoML_801f076f-8f9e-4370-8baf-fc4dd1357129_34\", \"run_number\": 1707463196, \"metric\": null, \"status\": \"Completed\", \"run_type\": \"azureml.scriptrun\", \"training_percent\": \"100\", \"start_time\": \"2024-02-09T07:20:03.736494Z\", \"end_time\": \"2024-02-09T07:20:34.51609Z\", \"created_time\": \"2024-02-09T07:19:56.880127Z\", \"created_time_dt\": \"2024-02-09T07:19:56.880127Z\", \"duration\": \"0:00:37\", \"iteration\": \"34\", \"goal\": \"AUC_weighted_max\", \"run_name\": \"MinMaxScaler, RandomForest\", \"run_properties\": \"copy=True, feature_range=(0, 1\", \"primary_metric\": 0.90462075, \"best_metric\": 0.91273924}, {\"run_id\": \"AutoML_801f076f-8f9e-4370-8baf-fc4dd1357129_35\", \"run_number\": 1707463202, \"metric\": null, \"status\": \"Completed\", \"run_type\": \"azureml.scriptrun\", \"training_percent\": \"100\", \"start_time\": \"2024-02-09T07:20:09.271989Z\", \"end_time\": \"2024-02-09T07:20:39.183237Z\", \"created_time\": \"2024-02-09T07:20:02.28425Z\", \"created_time_dt\": \"2024-02-09T07:20:02.28425Z\", \"duration\": \"0:00:36\", \"iteration\": \"35\", \"goal\": \"AUC_weighted_max\", \"run_name\": \"RobustScaler, ExtremeRandomTrees\", \"run_properties\": \"copy=True, quantile_range=[25, 75], with_centering=False,\\n             with_scaling=False\", \"primary_metric\": 0.89330986, \"best_metric\": 0.91273924}, {\"run_id\": \"AutoML_801f076f-8f9e-4370-8baf-fc4dd1357129_36\", \"run_number\": 1707463207, \"metric\": null, \"status\": \"Completed\", \"run_type\": \"azureml.scriptrun\", \"training_percent\": \"100\", \"start_time\": \"2024-02-09T07:20:24.471267Z\", \"end_time\": \"2024-02-09T07:20:52.59787Z\", \"created_time\": \"2024-02-09T07:20:07.24051Z\", \"created_time_dt\": \"2024-02-09T07:20:07.24051Z\", \"duration\": \"0:00:45\", \"iteration\": \"36\", \"goal\": \"AUC_weighted_max\", \"run_name\": \"StandardScalerWrapper, SVM\", \"run_properties\": \"copy=True, with_mean=False, with_std=True\", \"primary_metric\": 0.86896954, \"best_metric\": 0.91273924}, {\"run_id\": \"AutoML_801f076f-8f9e-4370-8baf-fc4dd1357129_37\", \"run_number\": 1707463225, \"metric\": null, \"status\": \"Completed\", \"run_type\": \"azureml.scriptrun\", \"training_percent\": \"100\", \"start_time\": \"2024-02-09T07:20:33.009714Z\", \"end_time\": \"2024-02-09T07:21:01.725005Z\", \"created_time\": \"2024-02-09T07:20:25.31826Z\", \"created_time_dt\": \"2024-02-09T07:20:25.31826Z\", \"duration\": \"0:00:36\", \"iteration\": \"37\", \"goal\": \"AUC_weighted_max\", \"run_name\": \"StandardScalerWrapper, XGBoostClassifier\", \"run_properties\": \"copy=True, with_mean=False, with_std=False\", \"primary_metric\": 0.89359642, \"best_metric\": 0.91273924}, {\"run_id\": \"AutoML_801f076f-8f9e-4370-8baf-fc4dd1357129_38\", \"run_number\": 1707463234, \"metric\": null, \"status\": \"Completed\", \"run_type\": \"azureml.scriptrun\", \"training_percent\": \"100\", \"start_time\": \"2024-02-09T07:20:41.066511Z\", \"end_time\": \"2024-02-09T07:21:16.046759Z\", \"created_time\": \"2024-02-09T07:20:33.996924Z\", \"created_time_dt\": \"2024-02-09T07:20:33.996924Z\", \"duration\": \"0:00:42\", \"iteration\": \"38\", \"goal\": \"AUC_weighted_max\", \"run_name\": \"RobustScaler, ExtremeRandomTrees\", \"run_properties\": \"copy=True, quantile_range=[25, 75], with_centering=True,\\n             with_scaling=True\", \"primary_metric\": 0.91016364, \"best_metric\": 0.91273924}, {\"run_id\": \"AutoML_801f076f-8f9e-4370-8baf-fc4dd1357129_39\", \"run_number\": 1707463236, \"metric\": null, \"status\": \"Completed\", \"run_type\": \"azureml.scriptrun\", \"training_percent\": \"100\", \"start_time\": \"2024-02-09T07:20:46.704033Z\", \"end_time\": \"2024-02-09T07:21:18.966864Z\", \"created_time\": \"2024-02-09T07:20:36.210941Z\", \"created_time_dt\": \"2024-02-09T07:20:36.210941Z\", \"duration\": \"0:00:42\", \"iteration\": \"39\", \"goal\": \"AUC_weighted_max\", \"run_name\": \"StandardScalerWrapper, XGBoostClassifier\", \"run_properties\": \"copy=True, with_mean=False, with_std=False\", \"primary_metric\": 0.90837233, \"best_metric\": 0.91273924}, {\"run_id\": \"AutoML_801f076f-8f9e-4370-8baf-fc4dd1357129_40\", \"run_number\": 1707463241, \"metric\": null, \"status\": \"Canceled\", \"run_type\": \"azureml.scriptrun\", \"training_percent\": \"100\", \"start_time\": \"2024-02-09T07:20:53.242053Z\", \"end_time\": \"2024-02-09T07:21:21.01269Z\", \"created_time\": \"2024-02-09T07:20:41.610263Z\", \"created_time_dt\": \"2024-02-09T07:20:41.610263Z\", \"duration\": \"0:00:39\", \"iteration\": \"40\", \"goal\": \"AUC_weighted_max\", \"run_name\": \"MaxAbsScaler, ExtremeRandomTrees\", \"run_properties\": \"copy=True\", \"primary_metric\": 0.89666487, \"best_metric\": 0.91273924}, {\"run_id\": \"AutoML_801f076f-8f9e-4370-8baf-fc4dd1357129_41\", \"run_number\": 1707463254, \"metric\": null, \"status\": \"Canceled\", \"run_type\": \"azureml.scriptrun\", \"training_percent\": \"100\", \"start_time\": \"2024-02-09T07:21:02.444173Z\", \"end_time\": \"2024-02-09T07:21:22.018075Z\", \"created_time\": \"2024-02-09T07:20:54.310496Z\", \"created_time_dt\": \"2024-02-09T07:20:54.310496Z\", \"duration\": \"0:00:27\", \"iteration\": \"41\", \"goal\": null, \"run_name\": \"StandardScalerWrapper, GradientBoosting\", \"run_properties\": null}, {\"run_id\": \"AutoML_801f076f-8f9e-4370-8baf-fc4dd1357129_42\", \"run_number\": 1707463263, \"metric\": null, \"status\": \"Canceled\", \"run_type\": \"azureml.scriptrun\", \"training_percent\": \"100\", \"start_time\": \"2024-02-09T07:21:16.633871Z\", \"end_time\": \"2024-02-09T07:21:22.103888Z\", \"created_time\": \"2024-02-09T07:21:03.331844Z\", \"created_time_dt\": \"2024-02-09T07:21:03.331844Z\", \"duration\": \"0:00:18\", \"iteration\": \"42\", \"goal\": null, \"run_name\": \"Canceled\", \"run_properties\": null}, {\"run_id\": \"AutoML_801f076f-8f9e-4370-8baf-fc4dd1357129_43\", \"run_number\": 1707463282, \"metric\": null, \"status\": \"Completed\", \"run_type\": \"azureml.scriptrun\", \"training_percent\": \"100\", \"start_time\": \"2024-02-09T07:21:29.370287Z\", \"end_time\": \"2024-02-09T07:22:28.449254Z\", \"created_time\": \"2024-02-09T07:21:22.798431Z\", \"created_time_dt\": \"2024-02-09T07:21:22.798431Z\", \"duration\": \"0:01:05\", \"iteration\": \"43\", \"goal\": \"AUC_weighted_max\", \"run_name\": \"VotingEnsemble\", \"run_properties\": \"classification_labels=numpy.array([0, 1]\", \"primary_metric\": 0.91979108, \"best_metric\": 0.91979108}], \"children_metrics\": {\"categories\": [0], \"series\": {\"accuracy\": [{\"categories\": [\"0\", \"2\", \"6\", \"9\", \"13\", \"18\", \"20\", \"24\", \"25\", \"27\", \"28\", \"29\", \"30\", \"31\", \"32\", \"33\", \"34\", \"35\", \"36\", \"37\", \"38\", \"39\", \"40\", \"43\"], \"mode\": \"markers\", \"name\": \"accuracy\", \"stepped\": false, \"type\": \"scatter\", \"data\": [0.8526436781609196, 0.8327586206896551, 0.8394252873563218, 0.8394252873563219, 0.7658620689655172, 0.8328735632183909, 0.8560919540229885, 0.8291954022988506, 0.8090804597701149, 0.8255172413793105, 0.8194252873563219, 0.8359770114942527, 0.6791954022988507, 0.8591954022988506, 0.8560919540229884, 0.8459770114942529, 0.8459770114942529, 0.8226436781609194, 0.8358620689655172, 0.8394252873563219, 0.8629885057471265, 0.849310344827586, 0.8225287356321838, 0.8459770114942529]}, {\"categories\": [\"0\", \"2\", \"6\", \"9\", \"13\", \"18\", \"20\", \"24\", \"25\", \"27\", \"28\", \"29\", \"30\", \"31\", \"32\", \"33\", \"34\", \"35\", \"36\", \"37\", \"38\", \"39\", \"40\", \"43\"], \"mode\": \"lines\", \"name\": \"accuracy_max\", \"stepped\": true, \"type\": \"scatter\", \"data\": [0.8526436781609196, 0.8526436781609196, 0.8526436781609196, 0.8526436781609196, 0.8526436781609196, 0.8526436781609196, 0.8560919540229885, 0.8560919540229885, 0.8560919540229885, 0.8560919540229885, 0.8560919540229885, 0.8560919540229885, 0.8560919540229885, 0.8591954022988506, 0.8591954022988506, 0.8591954022988506, 0.8591954022988506, 0.8591954022988506, 0.8591954022988506, 0.8591954022988506, 0.8629885057471265, 0.8629885057471265, 0.8629885057471265, 0.8629885057471265]}], \"AUC_weighted\": [{\"categories\": [\"0\", \"2\", \"6\", \"9\", \"13\", \"18\", \"20\", \"24\", \"25\", \"27\", \"28\", \"29\", \"30\", \"31\", \"32\", \"33\", \"34\", \"35\", \"36\", \"37\", \"38\", \"39\", \"40\", \"43\"], \"mode\": \"markers\", \"name\": \"AUC_weighted\", \"stepped\": false, \"type\": \"scatter\", \"data\": [0.8952333600250076, 0.8893637006988264, 0.8745696242692811, 0.902766962779148, 0.7464011599733854, 0.8808186107286222, 0.8960912485429647, 0.9127392375316861, 0.8792161109019805, 0.8758299674306539, 0.8771713325914698, 0.9007338212131117, 0.7389316613888697, 0.903852486123081, 0.9089069651236127, 0.8922099693541055, 0.9046207515384861, 0.893309860289723, 0.868969542130469, 0.8935964164501063, 0.9101636411516273, 0.908372328658713, 0.8966648711149855, 0.919791077358526]}, {\"categories\": [\"0\", \"2\", \"6\", \"9\", \"13\", \"18\", \"20\", \"24\", \"25\", \"27\", \"28\", \"29\", \"30\", \"31\", \"32\", \"33\", \"34\", \"35\", \"36\", \"37\", \"38\", \"39\", \"40\", \"43\"], \"mode\": \"lines\", \"name\": \"AUC_weighted_max\", \"stepped\": true, \"type\": \"scatter\", \"data\": [0.8952333600250076, 0.8952333600250076, 0.8952333600250076, 0.902766962779148, 0.902766962779148, 0.902766962779148, 0.902766962779148, 0.9127392375316861, 0.9127392375316861, 0.9127392375316861, 0.9127392375316861, 0.9127392375316861, 0.9127392375316861, 0.9127392375316861, 0.9127392375316861, 0.9127392375316861, 0.9127392375316861, 0.9127392375316861, 0.9127392375316861, 0.9127392375316861, 0.9127392375316861, 0.9127392375316861, 0.9127392375316861, 0.919791077358526]}], \"average_precision_score_macro\": [{\"categories\": [\"0\", \"2\", \"6\", \"9\", \"13\", \"18\", \"20\", \"24\", \"25\", \"27\", \"28\", \"29\", \"30\", \"31\", \"32\", \"33\", \"34\", \"35\", \"36\", \"37\", \"38\", \"39\", \"40\", \"43\"], \"mode\": \"markers\", \"name\": \"average_precision_score_macro\", \"stepped\": false, \"type\": \"scatter\", \"data\": [0.8914391239798902, 0.8797478598365144, 0.872975650249141, 0.8896981140481627, 0.7597412180878824, 0.8766364994274788, 0.8874550291522019, 0.900188445773346, 0.8701585163687732, 0.8704588947573175, 0.8762070609235053, 0.8916555831014848, 0.728909006379544, 0.8947338813248452, 0.9018381387407561, 0.8883452311292881, 0.8855519759367013, 0.8919901034301209, 0.8570182851089229, 0.8861349163604839, 0.9027123431290353, 0.9003500850345614, 0.8922090290623785, 0.9118877715898369]}, {\"categories\": [\"0\", \"2\", \"6\", \"9\", \"13\", \"18\", \"20\", \"24\", \"25\", \"27\", \"28\", \"29\", \"30\", \"31\", \"32\", \"33\", \"34\", \"35\", \"36\", \"37\", \"38\", \"39\", \"40\", \"43\"], \"mode\": \"lines\", \"name\": \"average_precision_score_macro_max\", \"stepped\": true, \"type\": \"scatter\", \"data\": [0.8914391239798902, 0.8914391239798902, 0.8914391239798902, 0.8914391239798902, 0.8914391239798902, 0.8914391239798902, 0.8914391239798902, 0.900188445773346, 0.900188445773346, 0.900188445773346, 0.900188445773346, 0.900188445773346, 0.900188445773346, 0.900188445773346, 0.9018381387407561, 0.9018381387407561, 0.9018381387407561, 0.9018381387407561, 0.9018381387407561, 0.9018381387407561, 0.9027123431290353, 0.9027123431290353, 0.9027123431290353, 0.9118877715898369]}], \"precision_score_macro\": [{\"categories\": [\"0\", \"2\", \"6\", \"9\", \"13\", \"18\", \"20\", \"24\", \"25\", \"27\", \"28\", \"29\", \"30\", \"31\", \"32\", \"33\", \"34\", \"35\", \"36\", \"37\", \"38\", \"39\", \"40\", \"43\"], \"mode\": \"markers\", \"name\": \"precision_score_macro\", \"stepped\": false, \"type\": \"scatter\", \"data\": [0.8410434880400557, 0.8325118972052611, 0.8276908190559086, 0.816728621619926, 0.773829678500159, 0.8337998306041785, 0.8408582185788067, 0.8028128809185311, 0.7793363968220948, 0.8023822707313923, 0.8567379404009839, 0.8343728216228217, 0.33959770114942534, 0.8487680375180375, 0.8501411404736213, 0.8454125241765909, 0.8286148252967476, 0.8049633694665663, 0.8152985679779159, 0.8264310620841446, 0.8812805918337954, 0.8334721085251777, 0.7957755059585723, 0.8311809514650408]}, {\"categories\": [\"0\", \"2\", \"6\", \"9\", \"13\", \"18\", \"20\", \"24\", \"25\", \"27\", \"28\", \"29\", \"30\", \"31\", \"32\", \"33\", \"34\", \"35\", \"36\", \"37\", \"38\", \"39\", \"40\", \"43\"], \"mode\": \"lines\", \"name\": \"precision_score_macro_max\", \"stepped\": true, \"type\": \"scatter\", \"data\": [0.8410434880400557, 0.8410434880400557, 0.8410434880400557, 0.8410434880400557, 0.8410434880400557, 0.8410434880400557, 0.8410434880400557, 0.8410434880400557, 0.8410434880400557, 0.8410434880400557, 0.8567379404009839, 0.8567379404009839, 0.8567379404009839, 0.8567379404009839, 0.8567379404009839, 0.8567379404009839, 0.8567379404009839, 0.8567379404009839, 0.8567379404009839, 0.8567379404009839, 0.8812805918337954, 0.8812805918337954, 0.8812805918337954, 0.8812805918337954]}], \"f1_score_micro\": [{\"categories\": [\"0\", \"2\", \"6\", \"9\", \"13\", \"18\", \"20\", \"24\", \"25\", \"27\", \"28\", \"29\", \"30\", \"31\", \"32\", \"33\", \"34\", \"35\", \"36\", \"37\", \"38\", \"39\", \"40\", \"43\"], \"mode\": \"markers\", \"name\": \"f1_score_micro\", \"stepped\": false, \"type\": \"scatter\", \"data\": [0.8526436781609196, 0.8327586206896551, 0.8394252873563219, 0.8394252873563219, 0.7658620689655172, 0.8328735632183909, 0.8560919540229885, 0.8291954022988506, 0.8090804597701149, 0.8255172413793105, 0.8194252873563219, 0.8359770114942527, 0.6791954022988507, 0.8591954022988506, 0.8560919540229885, 0.8459770114942529, 0.8459770114942529, 0.8226436781609194, 0.8358620689655172, 0.8394252873563219, 0.8629885057471265, 0.8493103448275864, 0.822528735632184, 0.8459770114942529]}, {\"categories\": [\"0\", \"2\", \"6\", \"9\", \"13\", \"18\", \"20\", \"24\", \"25\", \"27\", \"28\", \"29\", \"30\", \"31\", \"32\", \"33\", \"34\", \"35\", \"36\", \"37\", \"38\", \"39\", \"40\", \"43\"], \"mode\": \"lines\", \"name\": \"f1_score_micro_max\", \"stepped\": true, \"type\": \"scatter\", \"data\": [0.8526436781609196, 0.8526436781609196, 0.8526436781609196, 0.8526436781609196, 0.8526436781609196, 0.8526436781609196, 0.8560919540229885, 0.8560919540229885, 0.8560919540229885, 0.8560919540229885, 0.8560919540229885, 0.8560919540229885, 0.8560919540229885, 0.8591954022988506, 0.8591954022988506, 0.8591954022988506, 0.8591954022988506, 0.8591954022988506, 0.8591954022988506, 0.8591954022988506, 0.8629885057471265, 0.8629885057471265, 0.8629885057471265, 0.8629885057471265]}], \"recall_score_macro\": [{\"categories\": [\"0\", \"2\", \"6\", \"9\", \"13\", \"18\", \"20\", \"24\", \"25\", \"27\", \"28\", \"29\", \"30\", \"31\", \"32\", \"33\", \"34\", \"35\", \"36\", \"37\", \"38\", \"39\", \"40\", \"43\"], \"mode\": \"markers\", \"name\": \"recall_score_macro\", \"stepped\": false, \"type\": \"scatter\", \"data\": [0.8215480214865225, 0.7839958076185194, 0.8049689317166434, 0.8115520533051997, 0.6741668441525421, 0.7931312380093846, 0.8224065759755119, 0.8113040374321839, 0.7968961237084807, 0.8191037677362049, 0.7419353183683848, 0.7931090423687677, 0.5, 0.8325436611125969, 0.8271684807374167, 0.808579046017547, 0.8050795871430884, 0.7957035370871182, 0.8049245061765085, 0.8069056200283317, 0.8186620186005197, 0.8277295424826889, 0.8135793316459793, 0.8133972278357289]}, {\"categories\": [\"0\", \"2\", \"6\", \"9\", \"13\", \"18\", \"20\", \"24\", \"25\", \"27\", \"28\", \"29\", \"30\", \"31\", \"32\", \"33\", \"34\", \"35\", \"36\", \"37\", \"38\", \"39\", \"40\", \"43\"], \"mode\": \"lines\", \"name\": \"recall_score_macro_max\", \"stepped\": true, \"type\": \"scatter\", \"data\": [0.8215480214865225, 0.8215480214865225, 0.8215480214865225, 0.8215480214865225, 0.8215480214865225, 0.8215480214865225, 0.8224065759755119, 0.8224065759755119, 0.8224065759755119, 0.8224065759755119, 0.8224065759755119, 0.8224065759755119, 0.8224065759755119, 0.8325436611125969, 0.8325436611125969, 0.8325436611125969, 0.8325436611125969, 0.8325436611125969, 0.8325436611125969, 0.8325436611125969, 0.8325436611125969, 0.8325436611125969, 0.8325436611125969, 0.8325436611125969]}], \"recall_score_micro\": [{\"categories\": [\"0\", \"2\", \"6\", \"9\", \"13\", \"18\", \"20\", \"24\", \"25\", \"27\", \"28\", \"29\", \"30\", \"31\", \"32\", \"33\", \"34\", \"35\", \"36\", \"37\", \"38\", \"39\", \"40\", \"43\"], \"mode\": \"markers\", \"name\": \"recall_score_micro\", \"stepped\": false, \"type\": \"scatter\", \"data\": [0.8526436781609196, 0.8327586206896551, 0.8394252873563218, 0.8394252873563219, 0.7658620689655172, 0.8328735632183909, 0.8560919540229885, 0.8291954022988506, 0.8090804597701149, 0.8255172413793105, 0.8194252873563219, 0.8359770114942527, 0.6791954022988507, 0.8591954022988506, 0.8560919540229884, 0.8459770114942529, 0.8459770114942529, 0.8226436781609194, 0.8358620689655172, 0.8394252873563219, 0.8629885057471265, 0.849310344827586, 0.8225287356321838, 0.8459770114942529]}, {\"categories\": [\"0\", \"2\", \"6\", \"9\", \"13\", \"18\", \"20\", \"24\", \"25\", \"27\", \"28\", \"29\", \"30\", \"31\", \"32\", \"33\", \"34\", \"35\", \"36\", \"37\", \"38\", \"39\", \"40\", \"43\"], \"mode\": \"lines\", \"name\": \"recall_score_micro_max\", \"stepped\": true, \"type\": \"scatter\", \"data\": [0.8526436781609196, 0.8526436781609196, 0.8526436781609196, 0.8526436781609196, 0.8526436781609196, 0.8526436781609196, 0.8560919540229885, 0.8560919540229885, 0.8560919540229885, 0.8560919540229885, 0.8560919540229885, 0.8560919540229885, 0.8560919540229885, 0.8591954022988506, 0.8591954022988506, 0.8591954022988506, 0.8591954022988506, 0.8591954022988506, 0.8591954022988506, 0.8591954022988506, 0.8629885057471265, 0.8629885057471265, 0.8629885057471265, 0.8629885057471265]}], \"norm_macro_recall\": [{\"categories\": [\"0\", \"2\", \"6\", \"9\", \"13\", \"18\", \"20\", \"24\", \"25\", \"27\", \"28\", \"29\", \"30\", \"31\", \"32\", \"33\", \"34\", \"35\", \"36\", \"37\", \"38\", \"39\", \"40\", \"43\"], \"mode\": \"markers\", \"name\": \"norm_macro_recall\", \"stepped\": false, \"type\": \"scatter\", \"data\": [0.6430960429730452, 0.5679916152370386, 0.6099378634332868, 0.6231041066103995, 0.34833368830508415, 0.586262476018769, 0.6448131519510237, 0.6226080748643678, 0.5937922474169615, 0.6382075354724096, 0.48387063673676944, 0.5862180847375354, 0.0, 0.6650873222251941, 0.6543369614748333, 0.6171580920350943, 0.6101591742861766, 0.5914070741742365, 0.6098490123530169, 0.6138112400566633, 0.6373240372010394, 0.6554590849653777, 0.6271586632919585, 0.6267944556714579]}, {\"categories\": [\"0\", \"2\", \"6\", \"9\", \"13\", \"18\", \"20\", \"24\", \"25\", \"27\", \"28\", \"29\", \"30\", \"31\", \"32\", \"33\", \"34\", \"35\", \"36\", \"37\", \"38\", \"39\", \"40\", \"43\"], \"mode\": \"lines\", \"name\": \"norm_macro_recall_max\", \"stepped\": true, \"type\": \"scatter\", \"data\": [0.6430960429730452, 0.6430960429730452, 0.6430960429730452, 0.6430960429730452, 0.6430960429730452, 0.6430960429730452, 0.6448131519510237, 0.6448131519510237, 0.6448131519510237, 0.6448131519510237, 0.6448131519510237, 0.6448131519510237, 0.6448131519510237, 0.6650873222251941, 0.6650873222251941, 0.6650873222251941, 0.6650873222251941, 0.6650873222251941, 0.6650873222251941, 0.6650873222251941, 0.6650873222251941, 0.6650873222251941, 0.6650873222251941, 0.6650873222251941]}], \"balanced_accuracy\": [{\"categories\": [\"0\", \"2\", \"6\", \"9\", \"13\", \"18\", \"20\", \"24\", \"25\", \"27\", \"28\", \"29\", \"30\", \"31\", \"32\", \"33\", \"34\", \"35\", \"36\", \"37\", \"38\", \"39\", \"40\", \"43\"], \"mode\": \"markers\", \"name\": \"balanced_accuracy\", \"stepped\": false, \"type\": \"scatter\", \"data\": [0.8215480214865225, 0.7839958076185194, 0.8049689317166434, 0.8115520533051997, 0.6741668441525421, 0.7931312380093846, 0.8224065759755119, 0.8113040374321839, 0.7968961237084807, 0.8191037677362049, 0.7419353183683848, 0.7931090423687677, 0.5, 0.8325436611125969, 0.8271684807374167, 0.808579046017547, 0.8050795871430884, 0.7957035370871182, 0.8049245061765085, 0.8069056200283317, 0.8186620186005197, 0.8277295424826889, 0.8135793316459793, 0.8133972278357289]}, {\"categories\": [\"0\", \"2\", \"6\", \"9\", \"13\", \"18\", \"20\", \"24\", \"25\", \"27\", \"28\", \"29\", \"30\", \"31\", \"32\", \"33\", \"34\", \"35\", \"36\", \"37\", \"38\", \"39\", \"40\", \"43\"], \"mode\": \"lines\", \"name\": \"balanced_accuracy_max\", \"stepped\": true, \"type\": \"scatter\", \"data\": [0.8215480214865225, 0.8215480214865225, 0.8215480214865225, 0.8215480214865225, 0.8215480214865225, 0.8215480214865225, 0.8224065759755119, 0.8224065759755119, 0.8224065759755119, 0.8224065759755119, 0.8224065759755119, 0.8224065759755119, 0.8224065759755119, 0.8325436611125969, 0.8325436611125969, 0.8325436611125969, 0.8325436611125969, 0.8325436611125969, 0.8325436611125969, 0.8325436611125969, 0.8325436611125969, 0.8325436611125969, 0.8325436611125969, 0.8325436611125969]}], \"f1_score_macro\": [{\"categories\": [\"0\", \"2\", \"6\", \"9\", \"13\", \"18\", \"20\", \"24\", \"25\", \"27\", \"28\", \"29\", \"30\", \"31\", \"32\", \"33\", \"34\", \"35\", \"36\", \"37\", \"38\", \"39\", \"40\", \"43\"], \"mode\": \"markers\", \"name\": \"f1_score_macro\", \"stepped\": false, \"type\": \"scatter\", \"data\": [0.8229109664388268, 0.7941983616965371, 0.809208687932103, 0.8074348402916434, 0.6829016131755693, 0.7947127649689761, 0.822815722901729, 0.7995132573199439, 0.7799097523205074, 0.8013031047514142, 0.7569790652212877, 0.7934187592786736, 0.4024893878511494, 0.8306138845907775, 0.8261103980557334, 0.81346819591234, 0.806138235941868, 0.7894890706201103, 0.8027355993162958, 0.8069336015301888, 0.8322472865396191, 0.8204945317840056, 0.7943280177035307, 0.8135841361454466]}, {\"categories\": [\"0\", \"2\", \"6\", \"9\", \"13\", \"18\", \"20\", \"24\", \"25\", \"27\", \"28\", \"29\", \"30\", \"31\", \"32\", \"33\", \"34\", \"35\", \"36\", \"37\", \"38\", \"39\", \"40\", \"43\"], \"mode\": \"lines\", \"name\": \"f1_score_macro_max\", \"stepped\": true, \"type\": \"scatter\", \"data\": [0.8229109664388268, 0.8229109664388268, 0.8229109664388268, 0.8229109664388268, 0.8229109664388268, 0.8229109664388268, 0.8229109664388268, 0.8229109664388268, 0.8229109664388268, 0.8229109664388268, 0.8229109664388268, 0.8229109664388268, 0.8229109664388268, 0.8306138845907775, 0.8306138845907775, 0.8306138845907775, 0.8306138845907775, 0.8306138845907775, 0.8306138845907775, 0.8306138845907775, 0.8322472865396191, 0.8322472865396191, 0.8322472865396191, 0.8322472865396191]}], \"f1_score_weighted\": [{\"categories\": [\"0\", \"2\", \"6\", \"9\", \"13\", \"18\", \"20\", \"24\", \"25\", \"27\", \"28\", \"29\", \"30\", \"31\", \"32\", \"33\", \"34\", \"35\", \"36\", \"37\", \"38\", \"39\", \"40\", \"43\"], \"mode\": \"markers\", \"name\": \"f1_score_weighted\", \"stepped\": false, \"type\": \"scatter\", \"data\": [0.8495734967583646, 0.8257343366830897, 0.8362062813947053, 0.8382055050325461, 0.7414592889700058, 0.8266219008244068, 0.8528962935432418, 0.8298336910693159, 0.8106936729106222, 0.8297167239466102, 0.8007425744043314, 0.8280232796506933, 0.5534120288954022, 0.8572979888333616, 0.8522599930229529, 0.8408885528669149, 0.8406080955885908, 0.8208540731302489, 0.8343466644371069, 0.8353770148773805, 0.8565006540912439, 0.8471774798368266, 0.8252708651318491, 0.8430504070326592]}, {\"categories\": [\"0\", \"2\", \"6\", \"9\", \"13\", \"18\", \"20\", \"24\", \"25\", \"27\", \"28\", \"29\", \"30\", \"31\", \"32\", \"33\", \"34\", \"35\", \"36\", \"37\", \"38\", \"39\", \"40\", \"43\"], \"mode\": \"lines\", \"name\": \"f1_score_weighted_max\", \"stepped\": true, \"type\": \"scatter\", \"data\": [0.8495734967583646, 0.8495734967583646, 0.8495734967583646, 0.8495734967583646, 0.8495734967583646, 0.8495734967583646, 0.8528962935432418, 0.8528962935432418, 0.8528962935432418, 0.8528962935432418, 0.8528962935432418, 0.8528962935432418, 0.8528962935432418, 0.8572979888333616, 0.8572979888333616, 0.8572979888333616, 0.8572979888333616, 0.8572979888333616, 0.8572979888333616, 0.8572979888333616, 0.8572979888333616, 0.8572979888333616, 0.8572979888333616, 0.8572979888333616]}], \"AUC_macro\": [{\"categories\": [\"0\", \"2\", \"6\", \"9\", \"13\", \"18\", \"20\", \"24\", \"25\", \"27\", \"28\", \"29\", \"30\", \"31\", \"32\", \"33\", \"34\", \"35\", \"36\", \"37\", \"38\", \"39\", \"40\", \"43\"], \"mode\": \"markers\", \"name\": \"AUC_macro\", \"stepped\": false, \"type\": \"scatter\", \"data\": [0.8952333600250076, 0.8893637006988264, 0.8745696242692811, 0.902766962779148, 0.7464011599733854, 0.8808186107286222, 0.8960912485429647, 0.9127392375316861, 0.8792161109019805, 0.8758299674306539, 0.8771713325914698, 0.9007338212131117, 0.7389316613888697, 0.903852486123081, 0.9089069651236127, 0.8922099693541055, 0.9046207515384861, 0.893309860289723, 0.868969542130469, 0.8935964164501063, 0.9101636411516273, 0.908372328658713, 0.8966648711149856, 0.9197910773585258]}, {\"categories\": [\"0\", \"2\", \"6\", \"9\", \"13\", \"18\", \"20\", \"24\", \"25\", \"27\", \"28\", \"29\", \"30\", \"31\", \"32\", \"33\", \"34\", \"35\", \"36\", \"37\", \"38\", \"39\", \"40\", \"43\"], \"mode\": \"lines\", \"name\": \"AUC_macro_max\", \"stepped\": true, \"type\": \"scatter\", \"data\": [0.8952333600250076, 0.8952333600250076, 0.8952333600250076, 0.902766962779148, 0.902766962779148, 0.902766962779148, 0.902766962779148, 0.9127392375316861, 0.9127392375316861, 0.9127392375316861, 0.9127392375316861, 0.9127392375316861, 0.9127392375316861, 0.9127392375316861, 0.9127392375316861, 0.9127392375316861, 0.9127392375316861, 0.9127392375316861, 0.9127392375316861, 0.9127392375316861, 0.9127392375316861, 0.9127392375316861, 0.9127392375316861, 0.9197910773585258]}], \"average_precision_score_micro\": [{\"categories\": [\"0\", \"2\", \"6\", \"9\", \"13\", \"18\", \"20\", \"24\", \"25\", \"27\", \"28\", \"29\", \"30\", \"31\", \"32\", \"33\", \"34\", \"35\", \"36\", \"37\", \"38\", \"39\", \"40\", \"43\"], \"mode\": \"markers\", \"name\": \"average_precision_score_micro\", \"stepped\": false, \"type\": \"scatter\", \"data\": [0.9118998393040524, 0.9007958700600758, 0.8948392320710244, 0.9139866847808353, 0.792947413420068, 0.8917427552205384, 0.915055993167238, 0.9108110769406444, 0.8800383620418015, 0.8847811372525503, 0.8833200109920474, 0.9173949758685076, 0.7885651799481163, 0.9183347239199222, 0.9217497261553371, 0.9072686248339557, 0.9148178517092168, 0.9074481303791337, 0.889260385298407, 0.9037218695125594, 0.9223930211107845, 0.9204360334998454, 0.9014633550773399, 0.9292329522586144]}, {\"categories\": [\"0\", \"2\", \"6\", \"9\", \"13\", \"18\", \"20\", \"24\", \"25\", \"27\", \"28\", \"29\", \"30\", \"31\", \"32\", \"33\", \"34\", \"35\", \"36\", \"37\", \"38\", \"39\", \"40\", \"43\"], \"mode\": \"lines\", \"name\": \"average_precision_score_micro_max\", \"stepped\": true, \"type\": \"scatter\", \"data\": [0.9118998393040524, 0.9118998393040524, 0.9118998393040524, 0.9139866847808353, 0.9139866847808353, 0.9139866847808353, 0.915055993167238, 0.915055993167238, 0.915055993167238, 0.915055993167238, 0.915055993167238, 0.9173949758685076, 0.9173949758685076, 0.9183347239199222, 0.9217497261553371, 0.9217497261553371, 0.9217497261553371, 0.9217497261553371, 0.9217497261553371, 0.9217497261553371, 0.9223930211107845, 0.9223930211107845, 0.9223930211107845, 0.9292329522586144]}], \"weighted_accuracy\": [{\"categories\": [\"0\", \"2\", \"6\", \"9\", \"13\", \"18\", \"20\", \"24\", \"25\", \"27\", \"28\", \"29\", \"30\", \"31\", \"32\", \"33\", \"34\", \"35\", \"36\", \"37\", \"38\", \"39\", \"40\", \"43\"], \"mode\": \"markers\", \"name\": \"weighted_accuracy\", \"stepped\": false, \"type\": \"scatter\", \"data\": [0.8721435014988043, 0.8642196991512213, 0.8609664467668973, 0.8574877616988997, 0.8242342713380824, 0.8592395970494122, 0.8769593319167646, 0.84010676261278, 0.8172057798119081, 0.8284878962179529, 0.8699507904123471, 0.8628577453843678, 0.7931711479234276, 0.8765819566159733, 0.8747962719790046, 0.8703083741976204, 0.8721564200036758, 0.8398180044438783, 0.855164890979127, 0.8603176623290487, 0.8920107517375724, 0.8628006023176262, 0.8276707724058315, 0.8668847013162064]}, {\"categories\": [\"0\", \"2\", \"6\", \"9\", \"13\", \"18\", \"20\", \"24\", \"25\", \"27\", \"28\", \"29\", \"30\", \"31\", \"32\", \"33\", \"34\", \"35\", \"36\", \"37\", \"38\", \"39\", \"40\", \"43\"], \"mode\": \"lines\", \"name\": \"weighted_accuracy_max\", \"stepped\": true, \"type\": \"scatter\", \"data\": [0.8721435014988043, 0.8721435014988043, 0.8721435014988043, 0.8721435014988043, 0.8721435014988043, 0.8721435014988043, 0.8769593319167646, 0.8769593319167646, 0.8769593319167646, 0.8769593319167646, 0.8769593319167646, 0.8769593319167646, 0.8769593319167646, 0.8769593319167646, 0.8769593319167646, 0.8769593319167646, 0.8769593319167646, 0.8769593319167646, 0.8769593319167646, 0.8769593319167646, 0.8920107517375724, 0.8920107517375724, 0.8920107517375724, 0.8920107517375724]}], \"precision_score_micro\": [{\"categories\": [\"0\", \"2\", \"6\", \"9\", \"13\", \"18\", \"20\", \"24\", \"25\", \"27\", \"28\", \"29\", \"30\", \"31\", \"32\", \"33\", \"34\", \"35\", \"36\", \"37\", \"38\", \"39\", \"40\", \"43\"], \"mode\": \"markers\", \"name\": \"precision_score_micro\", \"stepped\": false, \"type\": \"scatter\", \"data\": [0.8526436781609196, 0.8327586206896551, 0.8394252873563218, 0.8394252873563219, 0.7658620689655172, 0.8328735632183909, 0.8560919540229885, 0.8291954022988506, 0.8090804597701149, 0.8255172413793105, 0.8194252873563219, 0.8359770114942527, 0.6791954022988507, 0.8591954022988506, 0.8560919540229884, 0.8459770114942529, 0.8459770114942529, 0.8226436781609194, 0.8358620689655172, 0.8394252873563219, 0.8629885057471265, 0.849310344827586, 0.8225287356321838, 0.8459770114942529]}, {\"categories\": [\"0\", \"2\", \"6\", \"9\", \"13\", \"18\", \"20\", \"24\", \"25\", \"27\", \"28\", \"29\", \"30\", \"31\", \"32\", \"33\", \"34\", \"35\", \"36\", \"37\", \"38\", \"39\", \"40\", \"43\"], \"mode\": \"lines\", \"name\": \"precision_score_micro_max\", \"stepped\": true, \"type\": \"scatter\", \"data\": [0.8526436781609196, 0.8526436781609196, 0.8526436781609196, 0.8526436781609196, 0.8526436781609196, 0.8526436781609196, 0.8560919540229885, 0.8560919540229885, 0.8560919540229885, 0.8560919540229885, 0.8560919540229885, 0.8560919540229885, 0.8560919540229885, 0.8591954022988506, 0.8591954022988506, 0.8591954022988506, 0.8591954022988506, 0.8591954022988506, 0.8591954022988506, 0.8591954022988506, 0.8629885057471265, 0.8629885057471265, 0.8629885057471265, 0.8629885057471265]}], \"precision_score_weighted\": [{\"categories\": [\"0\", \"2\", \"6\", \"9\", \"13\", \"18\", \"20\", \"24\", \"25\", \"27\", \"28\", \"29\", \"30\", \"31\", \"32\", \"33\", \"34\", \"35\", \"36\", \"37\", \"38\", \"39\", \"40\", \"43\"], \"mode\": \"markers\", \"name\": \"precision_score_weighted\", \"stepped\": false, \"type\": \"scatter\", \"data\": [0.8605602523953744, 0.8426692143854811, 0.8454002492984767, 0.8489228473786194, 0.7784834739122095, 0.8528719250764227, 0.8642312691252855, 0.8437764399323597, 0.825680739735699, 0.8490130199610114, 0.8459795968621305, 0.8550915904657284, 0.47055053507728895, 0.8720630284785458, 0.8698453517805357, 0.8590272946722856, 0.8518428366744472, 0.8384580361530268, 0.8456849224197425, 0.8496613798275099, 0.878246215637646, 0.8633675165561134, 0.8449527213922089, 0.8558205013850573]}, {\"categories\": [\"0\", \"2\", \"6\", \"9\", \"13\", \"18\", \"20\", \"24\", \"25\", \"27\", \"28\", \"29\", \"30\", \"31\", \"32\", \"33\", \"34\", \"35\", \"36\", \"37\", \"38\", \"39\", \"40\", \"43\"], \"mode\": \"lines\", \"name\": \"precision_score_weighted_max\", \"stepped\": true, \"type\": \"scatter\", \"data\": [0.8605602523953744, 0.8605602523953744, 0.8605602523953744, 0.8605602523953744, 0.8605602523953744, 0.8605602523953744, 0.8642312691252855, 0.8642312691252855, 0.8642312691252855, 0.8642312691252855, 0.8642312691252855, 0.8642312691252855, 0.8642312691252855, 0.8720630284785458, 0.8720630284785458, 0.8720630284785458, 0.8720630284785458, 0.8720630284785458, 0.8720630284785458, 0.8720630284785458, 0.878246215637646, 0.878246215637646, 0.878246215637646, 0.878246215637646]}], \"AUC_micro\": [{\"categories\": [\"0\", \"2\", \"6\", \"9\", \"13\", \"18\", \"20\", \"24\", \"25\", \"27\", \"28\", \"29\", \"30\", \"31\", \"32\", \"33\", \"34\", \"35\", \"36\", \"37\", \"38\", \"39\", \"40\", \"43\"], \"mode\": \"markers\", \"name\": \"AUC_micro\", \"stepped\": false, \"type\": \"scatter\", \"data\": [0.9107760602457391, 0.8989301096578147, 0.8938949663099486, 0.9123765358699961, 0.8058736953362399, 0.8915869996036465, 0.9128833399392258, 0.9142634429911481, 0.8840453164222488, 0.8841212841854935, 0.8799456995640111, 0.9112692561765094, 0.7784799841458581, 0.9174680935394373, 0.9191483683445633, 0.911947681331748, 0.9108423834059982, 0.9057644338750166, 0.8862985863390145, 0.9049808429118773, 0.9195148632580261, 0.9173355793367683, 0.9025831681860218, 0.9254583168186024]}, {\"categories\": [\"0\", \"2\", \"6\", \"9\", \"13\", \"18\", \"20\", \"24\", \"25\", \"27\", \"28\", \"29\", \"30\", \"31\", \"32\", \"33\", \"34\", \"35\", \"36\", \"37\", \"38\", \"39\", \"40\", \"43\"], \"mode\": \"lines\", \"name\": \"AUC_micro_max\", \"stepped\": true, \"type\": \"scatter\", \"data\": [0.9107760602457391, 0.9107760602457391, 0.9107760602457391, 0.9123765358699961, 0.9123765358699961, 0.9123765358699961, 0.9128833399392258, 0.9142634429911481, 0.9142634429911481, 0.9142634429911481, 0.9142634429911481, 0.9142634429911481, 0.9142634429911481, 0.9174680935394373, 0.9191483683445633, 0.9191483683445633, 0.9191483683445633, 0.9191483683445633, 0.9191483683445633, 0.9191483683445633, 0.9195148632580261, 0.9195148632580261, 0.9195148632580261, 0.9254583168186024]}], \"log_loss\": [{\"categories\": [\"0\", \"2\", \"6\", \"9\", \"13\", \"18\", \"20\", \"24\", \"25\", \"27\", \"28\", \"29\", \"30\", \"31\", \"32\", \"33\", \"34\", \"35\", \"36\", \"37\", \"38\", \"39\", \"40\", \"43\"], \"mode\": \"markers\", \"name\": \"log_loss\", \"stepped\": false, \"type\": \"scatter\", \"data\": [0.4598848075595511, 0.4108117064663731, 0.4031853975451883, 0.36723536521211586, 1.2827620632333787, 0.4230545367042797, 0.3720336640308625, 0.37565252766223656, 0.5641998418317208, 0.575743173661956, 0.4591580377210828, 0.3857401947874797, 0.6218937609665712, 0.35871761494002335, 0.3591171887667136, 0.3717729143986975, 0.38108013047224787, 0.39238848481859767, 0.41462109855553786, 0.6024479888941718, 0.37906929951626733, 0.36472324916825355, 0.43763665199692803, 0.3922091891117527]}, {\"categories\": [\"0\", \"2\", \"6\", \"9\", \"13\", \"18\", \"20\", \"24\", \"25\", \"27\", \"28\", \"29\", \"30\", \"31\", \"32\", \"33\", \"34\", \"35\", \"36\", \"37\", \"38\", \"39\", \"40\", \"43\"], \"mode\": \"lines\", \"name\": \"log_loss_min\", \"stepped\": true, \"type\": \"scatter\", \"data\": [0.4598848075595511, 0.4108117064663731, 0.4031853975451883, 0.36723536521211586, 0.36723536521211586, 0.36723536521211586, 0.36723536521211586, 0.36723536521211586, 0.36723536521211586, 0.36723536521211586, 0.36723536521211586, 0.36723536521211586, 0.36723536521211586, 0.35871761494002335, 0.35871761494002335, 0.35871761494002335, 0.35871761494002335, 0.35871761494002335, 0.35871761494002335, 0.35871761494002335, 0.35871761494002335, 0.35871761494002335, 0.35871761494002335, 0.35871761494002335]}], \"recall_score_weighted\": [{\"categories\": [\"0\", \"2\", \"6\", \"9\", \"13\", \"18\", \"20\", \"24\", \"25\", \"27\", \"28\", \"29\", \"30\", \"31\", \"32\", \"33\", \"34\", \"35\", \"36\", \"37\", \"38\", \"39\", \"40\", \"43\"], \"mode\": \"markers\", \"name\": \"recall_score_weighted\", \"stepped\": false, \"type\": \"scatter\", \"data\": [0.8526436781609196, 0.8327586206896551, 0.8394252873563218, 0.8394252873563219, 0.7658620689655172, 0.8328735632183909, 0.8560919540229885, 0.8291954022988506, 0.8090804597701149, 0.8255172413793105, 0.8194252873563219, 0.8359770114942527, 0.6791954022988507, 0.8591954022988506, 0.8560919540229884, 0.8459770114942529, 0.8459770114942529, 0.8226436781609194, 0.8358620689655172, 0.8394252873563219, 0.8629885057471265, 0.849310344827586, 0.8225287356321838, 0.8459770114942529]}, {\"categories\": [\"0\", \"2\", \"6\", \"9\", \"13\", \"18\", \"20\", \"24\", \"25\", \"27\", \"28\", \"29\", \"30\", \"31\", \"32\", \"33\", \"34\", \"35\", \"36\", \"37\", \"38\", \"39\", \"40\", \"43\"], \"mode\": \"lines\", \"name\": \"recall_score_weighted_max\", \"stepped\": true, \"type\": \"scatter\", \"data\": [0.8526436781609196, 0.8526436781609196, 0.8526436781609196, 0.8526436781609196, 0.8526436781609196, 0.8526436781609196, 0.8560919540229885, 0.8560919540229885, 0.8560919540229885, 0.8560919540229885, 0.8560919540229885, 0.8560919540229885, 0.8560919540229885, 0.8591954022988506, 0.8591954022988506, 0.8591954022988506, 0.8591954022988506, 0.8591954022988506, 0.8591954022988506, 0.8591954022988506, 0.8629885057471265, 0.8629885057471265, 0.8629885057471265, 0.8629885057471265]}], \"average_precision_score_weighted\": [{\"categories\": [\"0\", \"2\", \"6\", \"9\", \"13\", \"18\", \"20\", \"24\", \"25\", \"27\", \"28\", \"29\", \"30\", \"31\", \"32\", \"33\", \"34\", \"35\", \"36\", \"37\", \"38\", \"39\", \"40\", \"43\"], \"mode\": \"markers\", \"name\": \"average_precision_score_weighted\", \"stepped\": false, \"type\": \"scatter\", \"data\": [0.9151443911131578, 0.9067303529922931, 0.8942351986219921, 0.9153602367911955, 0.7942963774294312, 0.9005699345824244, 0.9151320934713377, 0.9252516412857028, 0.8987299319340784, 0.9000858202232177, 0.9018849287057396, 0.9199692164954616, 0.785420384010166, 0.9184054661073466, 0.9260321839911743, 0.9105036523314114, 0.9146775468238125, 0.915829782411692, 0.8922477060243329, 0.9094710210339079, 0.925105377807645, 0.9237723191288092, 0.9151585378844282, 0.9336780077598512]}, {\"categories\": [\"0\", \"2\", \"6\", \"9\", \"13\", \"18\", \"20\", \"24\", \"25\", \"27\", \"28\", \"29\", \"30\", \"31\", \"32\", \"33\", \"34\", \"35\", \"36\", \"37\", \"38\", \"39\", \"40\", \"43\"], \"mode\": \"lines\", \"name\": \"average_precision_score_weighted_max\", \"stepped\": true, \"type\": \"scatter\", \"data\": [0.9151443911131578, 0.9151443911131578, 0.9151443911131578, 0.9153602367911955, 0.9153602367911955, 0.9153602367911955, 0.9153602367911955, 0.9252516412857028, 0.9252516412857028, 0.9252516412857028, 0.9252516412857028, 0.9252516412857028, 0.9252516412857028, 0.9252516412857028, 0.9260321839911743, 0.9260321839911743, 0.9260321839911743, 0.9260321839911743, 0.9260321839911743, 0.9260321839911743, 0.9260321839911743, 0.9260321839911743, 0.9260321839911743, 0.9336780077598512]}], \"matthews_correlation\": [{\"categories\": [\"0\", \"2\", \"6\", \"9\", \"13\", \"18\", \"20\", \"24\", \"25\", \"27\", \"28\", \"29\", \"30\", \"31\", \"32\", \"33\", \"34\", \"35\", \"36\", \"37\", \"38\", \"39\", \"40\", \"43\"], \"mode\": \"markers\", \"name\": \"matthews_correlation\", \"stepped\": false, \"type\": \"scatter\", \"data\": [0.6609732322714985, 0.613432067746382, 0.6314366356398613, 0.627313031283804, 0.4335563191961641, 0.6224407913696177, 0.6613844749265068, 0.6130050770816158, 0.5747646528331166, 0.620187635413671, 0.5820273080583294, 0.6224335277606176, 0.0, 0.6790279157889179, 0.6746046828929902, 0.6509582933524621, 0.6307672517890577, 0.5991194242831746, 0.6192071207818166, 0.6320016907909529, 0.6948429336275689, 0.65973934117629, 0.6078198031194849, 0.6431941339840718]}, {\"categories\": [\"0\", \"2\", \"6\", \"9\", \"13\", \"18\", \"20\", \"24\", \"25\", \"27\", \"28\", \"29\", \"30\", \"31\", \"32\", \"33\", \"34\", \"35\", \"36\", \"37\", \"38\", \"39\", \"40\", \"43\"], \"mode\": \"lines\", \"name\": \"matthews_correlation_max\", \"stepped\": true, \"type\": \"scatter\", \"data\": [0.6609732322714985, 0.6609732322714985, 0.6609732322714985, 0.6609732322714985, 0.6609732322714985, 0.6609732322714985, 0.6613844749265068, 0.6613844749265068, 0.6613844749265068, 0.6613844749265068, 0.6613844749265068, 0.6613844749265068, 0.6613844749265068, 0.6790279157889179, 0.6790279157889179, 0.6790279157889179, 0.6790279157889179, 0.6790279157889179, 0.6790279157889179, 0.6790279157889179, 0.6948429336275689, 0.6948429336275689, 0.6948429336275689, 0.6948429336275689]}]}, \"metricName\": null, \"primaryMetricName\": \"AUC_weighted\", \"showLegend\": false}, \"run_metrics\": [{\"name\": \"experiment_status\", \"run_id\": \"AutoML_801f076f-8f9e-4370-8baf-fc4dd1357129\", \"categories\": [0, 1, 2, 3, 4, 5, 6, 7, 8, 9, 10, 11, 12, 13], \"series\": [{\"data\": [\"DatasetEvaluation\", \"FeaturesGeneration\", \"DatasetFeaturization\", \"DatasetFeaturizationCompleted\", \"DatasetCrossValidationSplit\", \"ModelSelection\", \"BestRunExplainModel\", \"ModelExplanationDataSetSetup\", \"PickSurrogateModel\", \"EngineeredFeatureExplanations\", \"EngineeredFeatureExplanations\", \"RawFeaturesExplanations\", \"RawFeaturesExplanations\", \"BestRunExplainModel\"]}]}, {\"name\": \"experiment_status_description\", \"run_id\": \"AutoML_801f076f-8f9e-4370-8baf-fc4dd1357129\", \"categories\": [0, 1, 2, 3, 4, 5, 6, 7, 8, 9, 10, 11, 12, 13], \"series\": [{\"data\": [\"Gathering dataset statistics.\", \"Generating features for the dataset.\", \"Beginning to fit featurizers and featurize the dataset.\", \"Completed fit featurizers and featurizing the dataset.\", \"Generating individually featurized CV splits.\", \"Beginning model selection.\", \"Best run model explanations started\", \"Model explanations data setup completed\", \"Choosing LightGBM as the surrogate model for explanations\", \"Computation of engineered features started\", \"Computation of engineered features completed\", \"Computation of raw features started\", \"Computation of raw features completed\", \"Best run model explanations completed\"]}]}, {\"name\": \"precision_score_macro\", \"run_id\": \"AutoML_801f076f-8f9e-4370-8baf-fc4dd1357129\", \"categories\": [0], \"series\": [{\"data\": [0.8311809514650408]}]}, {\"name\": \"weighted_accuracy\", \"run_id\": \"AutoML_801f076f-8f9e-4370-8baf-fc4dd1357129\", \"categories\": [0], \"series\": [{\"data\": [0.8668847013162064]}]}, {\"name\": \"average_precision_score_macro\", \"run_id\": \"AutoML_801f076f-8f9e-4370-8baf-fc4dd1357129\", \"categories\": [0], \"series\": [{\"data\": [0.9118877715898369]}]}, {\"name\": \"f1_score_micro\", \"run_id\": \"AutoML_801f076f-8f9e-4370-8baf-fc4dd1357129\", \"categories\": [0], \"series\": [{\"data\": [0.8459770114942529]}]}, {\"name\": \"precision_score_micro\", \"run_id\": \"AutoML_801f076f-8f9e-4370-8baf-fc4dd1357129\", \"categories\": [0], \"series\": [{\"data\": [0.8459770114942529]}]}, {\"name\": \"f1_score_weighted\", \"run_id\": \"AutoML_801f076f-8f9e-4370-8baf-fc4dd1357129\", \"categories\": [0], \"series\": [{\"data\": [0.8430504070326592]}]}, {\"name\": \"accuracy\", \"run_id\": \"AutoML_801f076f-8f9e-4370-8baf-fc4dd1357129\", \"categories\": [0], \"series\": [{\"data\": [0.8459770114942529]}]}, {\"name\": \"recall_score_weighted\", \"run_id\": \"AutoML_801f076f-8f9e-4370-8baf-fc4dd1357129\", \"categories\": [0], \"series\": [{\"data\": [0.8459770114942529]}]}, {\"name\": \"f1_score_macro\", \"run_id\": \"AutoML_801f076f-8f9e-4370-8baf-fc4dd1357129\", \"categories\": [0], \"series\": [{\"data\": [0.8135841361454466]}]}, {\"name\": \"average_precision_score_micro\", \"run_id\": \"AutoML_801f076f-8f9e-4370-8baf-fc4dd1357129\", \"categories\": [0], \"series\": [{\"data\": [0.9292329522586144]}]}, {\"name\": \"recall_score_macro\", \"run_id\": \"AutoML_801f076f-8f9e-4370-8baf-fc4dd1357129\", \"categories\": [0], \"series\": [{\"data\": [0.8133972278357289]}]}, {\"name\": \"average_precision_score_weighted\", \"run_id\": \"AutoML_801f076f-8f9e-4370-8baf-fc4dd1357129\", \"categories\": [0], \"series\": [{\"data\": [0.9336780077598512]}]}, {\"name\": \"log_loss\", \"run_id\": \"AutoML_801f076f-8f9e-4370-8baf-fc4dd1357129\", \"categories\": [0], \"series\": [{\"data\": [0.3922091891117527]}]}, {\"name\": \"balanced_accuracy\", \"run_id\": \"AutoML_801f076f-8f9e-4370-8baf-fc4dd1357129\", \"categories\": [0], \"series\": [{\"data\": [0.8133972278357289]}]}, {\"name\": \"norm_macro_recall\", \"run_id\": \"AutoML_801f076f-8f9e-4370-8baf-fc4dd1357129\", \"categories\": [0], \"series\": [{\"data\": [0.6267944556714579]}]}, {\"name\": \"AUC_macro\", \"run_id\": \"AutoML_801f076f-8f9e-4370-8baf-fc4dd1357129\", \"categories\": [0], \"series\": [{\"data\": [0.9197910773585258]}]}, {\"name\": \"matthews_correlation\", \"run_id\": \"AutoML_801f076f-8f9e-4370-8baf-fc4dd1357129\", \"categories\": [0], \"series\": [{\"data\": [0.6431941339840718]}]}, {\"name\": \"AUC_weighted\", \"run_id\": \"AutoML_801f076f-8f9e-4370-8baf-fc4dd1357129\", \"categories\": [0], \"series\": [{\"data\": [0.919791077358526]}]}, {\"name\": \"recall_score_micro\", \"run_id\": \"AutoML_801f076f-8f9e-4370-8baf-fc4dd1357129\", \"categories\": [0], \"series\": [{\"data\": [0.8459770114942529]}]}, {\"name\": \"precision_score_weighted\", \"run_id\": \"AutoML_801f076f-8f9e-4370-8baf-fc4dd1357129\", \"categories\": [0], \"series\": [{\"data\": [0.8558205013850573]}]}, {\"name\": \"AUC_micro\", \"run_id\": \"AutoML_801f076f-8f9e-4370-8baf-fc4dd1357129\", \"categories\": [0], \"series\": [{\"data\": [0.9254583168186024]}]}], \"run_logs\": \"\\nRun is completed.\", \"graph\": {}, \"widget_settings\": {\"childWidgetDisplay\": \"popup\", \"send_telemetry\": false, \"log_level\": \"INFO\", \"sdk_version\": \"1.51.0\"}, \"loading\": false}"
          },
          "metadata": {}
        }
      ],
      "execution_count": 6,
      "metadata": {
        "gather": {
          "logged": 1707462895316
        },
        "jupyter": {
          "outputs_hidden": false,
          "source_hidden": false
        },
        "nteract": {
          "transient": {
            "deleting": false
          }
        }
      }
    },
    {
      "cell_type": "markdown",
      "source": [
        "## Run Details\n",
        "\n",
        "OPTIONAL: Write about the different models trained and their performance. Why do you think some models did better than others?\n",
        "\n",
        "TODO: In the cell below, use the `RunDetails` widget to show the different experiments."
      ],
      "metadata": {}
    },
    {
      "cell_type": "code",
      "source": [
        "remote_run.wait_for_completion(show_output=True)"
      ],
      "outputs": [
        {
          "output_type": "display_data",
          "data": {
            "text/html": "<table style=\"width:100%\"><tr><th>Experiment</th><th>Id</th><th>Type</th><th>Status</th><th>Details Page</th><th>Docs Page</th></tr><tr><td>automl-capston-1</td><td>AutoML_801f076f-8f9e-4370-8baf-fc4dd1357129</td><td>automl</td><td>Running</td><td><a href=\"https://ml.azure.com/runs/AutoML_801f076f-8f9e-4370-8baf-fc4dd1357129?wsid=/subscriptions/a0a76bad-11a1-4a2d-9887-97a29122c8ed/resourcegroups/aml-quickstarts-252189/workspaces/quick-starts-ws-252189&amp;tid=660b3398-b80e-49d2-bc5b-ac1dc93b5254\" target=\"_blank\" rel=\"noopener\">Link to Azure Machine Learning studio</a></td><td><a href=\"https://docs.microsoft.com/en-us/python/api/overview/azure/ml/intro?view=azure-ml-py\" target=\"_blank\" rel=\"noopener\">Link to Documentation</a></td></tr></table>"
          },
          "metadata": {}
        },
        {
          "output_type": "stream",
          "name": "stdout",
          "text": "\nCurrent status: FeaturesGeneration. Generating features for the dataset.\nCurrent status: DatasetCrossValidationSplit. Generating individually featurized CV splits.\nCurrent status: ModelSelection. Beginning model selection.\n\n********************************************************************************************\nDATA GUARDRAILS: \n\nTYPE:         Cross validation\nSTATUS:       DONE\nDESCRIPTION:  In order to accurately evaluate the model(s) trained by AutoML, we leverage a dataset that the model is not trained on. Hence, if the user doesn't provide an explicit validation dataset, a part of the training dataset is used to achieve this. For smaller datasets (fewer than 20,000 samples), cross-validation is leveraged, else a single hold-out set is split from the training data to serve as the validation dataset. Hence, for your input data we leverage cross-validation with 10 folds, if the number of training samples are fewer than 1000, and 3 folds in all other cases.\n              Learn more about cross validation: https://aka.ms/AutomatedMLCrossValidation\nDETAILS:      \n+------------------------------+\n|Number of folds               |\n+==============================+\n|10                            |\n+------------------------------+\n\n********************************************************************************************\n\nTYPE:         Class balancing detection\nSTATUS:       PASSED\nDESCRIPTION:  Your inputs were analyzed, and all classes are balanced in your training data.\n              Learn more about imbalanced data: https://aka.ms/AutomatedMLImbalancedData\n\n********************************************************************************************\n\nTYPE:         Missing feature values imputation\nSTATUS:       PASSED\nDESCRIPTION:  No feature missing values were detected in the training data.\n              Learn more about missing value imputation: https://aka.ms/AutomatedMLFeaturization\n\n********************************************************************************************\n\nTYPE:         High cardinality feature detection\nSTATUS:       PASSED\nDESCRIPTION:  Your inputs were analyzed, and no high cardinality features were detected.\n              Learn more about high cardinality feature handling: https://aka.ms/AutomatedMLFeaturization\n\n********************************************************************************************\n\n********************************************************************************************\nITER: The iteration being evaluated.\nPIPELINE: A summary description of the pipeline being evaluated.\nDURATION: Time taken for the current iteration.\nMETRIC: The result of computing score on the fitted pipeline.\nBEST: The best observed score thus far.\n********************************************************************************************\n\n ITER   PIPELINE                                       DURATION            METRIC      BEST\n    0   MaxAbsScaler LightGBM                          0:00:14             0.8952    0.8952\n    4   StandardScalerWrapper LightGBM                 0:00:15             0.9028    0.9028\n    1   MaxAbsScaler XGBoostClassifier                 0:00:11             0.8992    0.9028\n    5   StandardScalerWrapper KNN                      0:00:11             0.5059    0.9028\n    2   MaxAbsScaler ExtremeRandomTrees                0:00:11             0.8894    0.9028\n    6   SparseNormalizer XGBoostClassifier             0:00:11             0.8746    0.9028\n    8   RobustScaler KNN                               0:00:13             0.8333    0.9028\n   10   StandardScalerWrapper LogisticRegression       0:00:11             0.8638    0.9028\n   11   StandardScalerWrapper SVM                      0:00:11             0.7999    0.9028\n    3   MaxAbsScaler RandomForest                      0:00:11             0.8971    0.9028\n    7   SparseNormalizer RandomForest                  0:00:13             0.8957    0.9028\n    9   MinMaxScaler RandomForest                      0:00:12             0.9028    0.9028\n   12   StandardScalerWrapper XGBoostClassifier        0:00:14             0.8960    0.9028\n   13   SparseNormalizer KNN                           0:00:11             0.7464    0.9028\n   14   RobustScaler ExtremeRandomTrees                0:00:11             0.8907    0.9028\n   15      17   MinMaxScaler ExtremeRandomTrees                0:00:10             0.8919    0.9047\n   18   SparseNormalizer LightGBM                      0:00:12             0.8808    0.9047\n   19   MaxAbsScaler ExtremeRandomTrees                0:00:16             0.8752    0.9047\n   20   StandardScalerWrapper XGBoostClassifier        0:00:31             0.8961    0.9047\n   21   StandardScalerWrapper RandomForest             0:00:32             0.9071    0.9071\n   22   MaxAbsScaler LightGBM                          0:00:30             0.9026    0.9071\n   23   MaxAbsScaler LogisticRegression                0:00:30             0.8674    0.9071\n   24   StandardScalerWrapper ExtremeRandomTrees       0:00:32             0.9127    0.9127\n   25   StandardScalerWrapper RandomForest             0:00:34             0.8792    0.9127\n   26   MinMaxScaler RandomForest                      0:00:33             0.9067    0.9127\n   27   StandardScalerWrapper ExtremeRandomTrees       0:00:32             0.8758    0.9127\n   28   MaxAbsScaler ExtremeRandomTrees                0:00:36             0.8772    0.9127\n   29   MaxAbsScaler LightGBM                          0:00:31             0.9007    0.9127\n   30   MaxAbsScaler ExtremeRandomTrees                0:00:31             0.7389    0.9127\n   31   MinMaxScaler LightGBM                          0:00:28             0.9039    0.9127\n   32   RobustScaler LightGBM                          0:00:30             0.9089    0.9127\n   33   StandardScalerWrapper XGBoostClassifier        0:00:31             0.8922    0.9127\n   34   MinMaxScaler RandomForest                      0:00:31             0.9046    0.9127\n   35   RobustScaler ExtremeRandomTrees                0:00:30             0.8933    0.9127\n   36   StandardScalerWrapper SVM                      0:00:28             0.8690    0.9127\n   37   StandardScalerWrapper XGBoostClassifier        0:00:29             0.8936    0.9127\n   38   RobustScaler ExtremeRandomTrees                0:00:35             0.9102    0.9127\n   39   StandardScalerWrapper XGBoostClassifier        0:00:32             0.9084    0.9127\n   40   MaxAbsScaler ExtremeRandomTrees                0:00:28             0.8967    0.9127\n   41   StandardScalerWrapper GradientBoosting         0:00:20                nan    0.9127\n   42                                                  0:00:05                nan    0.9127\n   43    VotingEnsemble                                0:00:59             0.9198    0.9198\n   44    StackEnsemble                                 0:01:05             0.9152    0.9198\n"
        },
        {
          "output_type": "execute_result",
          "execution_count": 7,
          "data": {
            "text/plain": "{'runId': 'AutoML_801f076f-8f9e-4370-8baf-fc4dd1357129',\n 'target': 'notebook252189',\n 'status': 'Completed',\n 'startTimeUtc': '2024-02-09T07:14:27.757554Z',\n 'endTimeUtc': '2024-02-09T07:22:39.464996Z',\n 'services': {},\n 'warnings': [{'source': 'JasmineService',\n   'message': 'No scores improved over last 10 iterations, so experiment stopped early. This early stopping behavior can be disabled by setting enable_early_stopping = False in AutoMLConfig for notebook/python SDK runs.'}],\n 'properties': {'num_iterations': '1000',\n  'training_type': 'TrainFull',\n  'acquisition_function': 'EI',\n  'primary_metric': 'AUC_weighted',\n  'train_split': '0',\n  'acquisition_parameter': '0',\n  'num_cross_validation': None,\n  'target': 'notebook252189',\n  'AMLSettingsJsonString': '{\"path\":null,\"name\":\"automl-capston-1\",\"subscription_id\":\"a0a76bad-11a1-4a2d-9887-97a29122c8ed\",\"resource_group\":\"aml-quickstarts-252189\",\"workspace_name\":\"quick-starts-ws-252189\",\"region\":\"southcentralus\",\"compute_target\":\"notebook252189\",\"spark_service\":null,\"azure_service\":\"remote\",\"many_models\":false,\"pipeline_fetch_max_batch_size\":1,\"enable_batch_run\":true,\"enable_parallel_run\":false,\"num_procs\":null,\"enable_run_restructure\":false,\"start_auxiliary_runs_before_parent_complete\":false,\"enable_code_generation\":true,\"iterations\":1000,\"primary_metric\":\"AUC_weighted\",\"task_type\":\"classification\",\"positive_label\":null,\"data_script\":null,\"test_size\":0.0,\"test_include_predictions_only\":false,\"validation_size\":0.0,\"n_cross_validations\":null,\"y_min\":null,\"y_max\":null,\"num_classes\":null,\"featurization\":\"auto\",\"_ignore_package_version_incompatibilities\":false,\"is_timeseries\":false,\"max_cores_per_iteration\":1,\"max_concurrent_iterations\":5,\"iteration_timeout_minutes\":null,\"mem_in_mb\":null,\"enforce_time_on_windows\":false,\"experiment_timeout_minutes\":20,\"experiment_exit_score\":null,\"partition_column_names\":null,\"whitelist_models\":null,\"blacklist_algos\":[\"TensorFlowLinearClassifier\",\"TensorFlowDNN\"],\"supported_models\":[\"GradientBoosting\",\"XGBoostClassifier\",\"TensorFlowLinearClassifier\",\"AveragedPerceptronClassifier\",\"ExtremeRandomTrees\",\"BernoulliNaiveBayes\",\"TabnetClassifier\",\"KNN\",\"SGD\",\"RandomForest\",\"LightGBM\",\"TensorFlowDNN\",\"SVM\",\"MultinomialNaiveBayes\",\"LogisticRegression\",\"DecisionTree\",\"LinearSVM\"],\"private_models\":[],\"auto_blacklist\":true,\"blacklist_samples_reached\":false,\"exclude_nan_labels\":true,\"verbosity\":20,\"_debug_log\":\"azureml_automl.log\",\"show_warnings\":false,\"model_explainability\":true,\"service_url\":null,\"sdk_url\":null,\"sdk_packages\":null,\"enable_onnx_compatible_models\":false,\"enable_split_onnx_featurizer_estimator_models\":false,\"vm_type\":\"Standard_DS3_v2\",\"telemetry_verbosity\":20,\"send_telemetry\":true,\"enable_dnn\":false,\"scenario\":\"AutoML\",\"environment_label\":null,\"save_mlflow\":false,\"enable_categorical_indicators\":false,\"force_text_dnn\":false,\"enable_feature_sweeping\":true,\"enable_early_stopping\":true,\"early_stopping_n_iters\":10,\"arguments\":null,\"dataset_id\":\"44801572-eb84-4bd0-bd39-d4f643bbe98b\",\"hyperdrive_config\":null,\"validation_dataset_id\":null,\"run_source\":null,\"metrics\":null,\"enable_metric_confidence\":false,\"enable_ensembling\":true,\"enable_stack_ensembling\":true,\"ensemble_iterations\":15,\"enable_tf\":false,\"enable_subsampling\":null,\"subsample_seed\":null,\"enable_nimbusml\":false,\"enable_streaming\":false,\"force_streaming\":false,\"track_child_runs\":true,\"n_best_runs\":1,\"allowed_private_models\":[],\"label_column_name\":\"DEATH_EVENT\",\"weight_column_name\":null,\"cv_split_column_names\":null,\"enable_local_managed\":false,\"_local_managed_run_id\":null,\"cost_mode\":1,\"lag_length\":0,\"metric_operation\":\"maximize\",\"preprocess\":true}',\n  'DataPrepJsonString': '{\\\\\"training_data\\\\\": {\\\\\"datasetId\\\\\": \\\\\"44801572-eb84-4bd0-bd39-d4f643bbe98b\\\\\"}, \\\\\"datasets\\\\\": 0}',\n  'EnableSubsampling': None,\n  'runTemplate': 'AutoML',\n  'azureml.runsource': 'automl',\n  'display_task_type': 'classification',\n  'dependencies_versions': '{\"azureml-dataprep-native\": \"38.0.0\", \"azureml-dataprep\": \"4.10.8\", \"azureml-dataprep-rslex\": \"2.17.12\", \"azureml-train-automl-runtime\": \"1.51.0.post2\", \"azureml-train-automl-client\": \"1.51.0.post1\", \"azureml-training-tabular\": \"1.51.0.post1\", \"azureml-automl-runtime\": \"1.51.0.post1\", \"azureml-automl-core\": \"1.51.0.post1\", \"azureml-mlflow\": \"1.51.0\", \"azureml-datadrift\": \"1.51.0\", \"azureml-pipeline\": \"1.51.0\", \"azureml-contrib-dataset\": \"1.51.0\", \"azureml-contrib-notebook\": \"1.51.0\", \"azureml-accel-models\": \"1.51.0\", \"azureml-automl-dnn-nlp\": \"1.51.0\", \"azureml-pipeline-core\": \"1.51.0\", \"azureml-responsibleai\": \"1.51.0\", \"azureml-contrib-automl-pipeline-steps\": \"1.51.0\", \"azureml-pipeline-steps\": \"1.51.0\", \"azureml-core\": \"1.51.0\", \"azureml-contrib-reinforcementlearning\": \"1.51.0\", \"azureml-contrib-server\": \"1.51.0\", \"azureml-opendatasets\": \"1.51.0\", \"azureml-contrib-services\": \"1.51.0\", \"azureml-telemetry\": \"1.51.0\", \"azureml-train-restclients-hyperdrive\": \"1.51.0\", \"azureml-interpret\": \"1.51.0\", \"azureml-train-core\": \"1.51.0\", \"azureml-tensorboard\": \"1.51.0\", \"azureml-train\": \"1.51.0\", \"azureml-contrib-pipeline-steps\": \"1.51.0\", \"azureml-explain-model\": \"1.51.0\", \"azureml-cli-common\": \"1.51.0\", \"azureml-widgets\": \"1.51.0\", \"azureml-train-automl\": \"1.51.0\", \"azureml-defaults\": \"1.51.0\", \"azureml-contrib-fairness\": \"1.51.0\", \"azureml-sdk\": \"1.51.0\", \"azureml-dataset-runtime\": \"1.51.0\", \"azureml-inference-server-http\": \"0.8.4\"}',\n  '_aml_system_scenario_identification': 'Remote.Parent',\n  'ClientType': 'SDK',\n  'PlatformVersion': 'DPV1',\n  'environment_cpu_name': 'AzureML-AutoML',\n  'environment_cpu_label': 'scikit-upgrade2',\n  'environment_gpu_name': 'AzureML-AutoML-GPU',\n  'environment_gpu_label': 'scikit-upgrade2',\n  'root_attribution': 'automl',\n  'attribution': 'AutoML',\n  'Orchestrator': 'AutoML',\n  'CancelUri': 'https://southcentralus.api.azureml.ms/jasmine/v1.0/subscriptions/a0a76bad-11a1-4a2d-9887-97a29122c8ed/resourceGroups/aml-quickstarts-252189/providers/Microsoft.MachineLearningServices/workspaces/quick-starts-ws-252189/experimentids/8d54c96c-0e0a-405e-9000-9e7287b3a50b/cancel/AutoML_801f076f-8f9e-4370-8baf-fc4dd1357129',\n  'ClientSdkVersion': None,\n  'snapshotId': '00000000-0000-0000-0000-000000000000',\n  'SetupRunId': 'AutoML_801f076f-8f9e-4370-8baf-fc4dd1357129_setup',\n  'SetupRunContainerId': 'dcid.AutoML_801f076f-8f9e-4370-8baf-fc4dd1357129_setup',\n  'FeaturizationRunJsonPath': 'featurizer_container.json',\n  'FeaturizationRunId': 'AutoML_801f076f-8f9e-4370-8baf-fc4dd1357129_featurize',\n  'ProblemInfoJsonString': '{\"dataset_num_categorical\": 0, \"is_sparse\": false, \"subsampling\": false, \"has_extra_col\": true, \"dataset_classes\": 2, \"dataset_features\": 12, \"dataset_samples\": 299, \"single_frequency_class_detected\": false}',\n  'ModelExplainRunId': 'AutoML_801f076f-8f9e-4370-8baf-fc4dd1357129_ModelExplain'},\n 'inputDatasets': [{'dataset': {'id': '44801572-eb84-4bd0-bd39-d4f643bbe98b'}, 'consumptionDetails': {'type': 'RunInput', 'inputName': 'training_data', 'mechanism': 'Direct'}}],\n 'outputDatasets': [{'identifier': {'savedId': '243f4356-27b3-45f6-b7a8-a021e4763ee2'},\n   'outputType': 'RunOutput',\n   'outputDetails': {'outputName': 'full_training_dataset'},\n   'dataset': {\n     \"source\": [\n       \"('workspaceartifactstore', 'ExperimentRun/dcid.AutoML_801f076f-8f9e-4370-8baf-fc4dd1357129/outputs/featurization/data/full_training_dataset.df.parquet')\"\n     ],\n     \"definition\": [\n       \"GetDatastoreFiles\",\n       \"ReadParquetFile\",\n       \"DropColumns\"\n     ],\n     \"registration\": {\n       \"id\": \"243f4356-27b3-45f6-b7a8-a021e4763ee2\",\n       \"name\": null,\n       \"version\": null,\n       \"workspace\": \"Workspace.create(name='quick-starts-ws-252189', subscription_id='a0a76bad-11a1-4a2d-9887-97a29122c8ed', resource_group='aml-quickstarts-252189')\"\n     }\n   }}],\n 'logFiles': {},\n 'submittedBy': 'ODL_User 252189'}"
          },
          "metadata": {}
        }
      ],
      "execution_count": 7,
      "metadata": {
        "gather": {
          "logged": 1707463383072
        },
        "jupyter": {
          "outputs_hidden": false,
          "source_hidden": false
        },
        "nteract": {
          "transient": {
            "deleting": false
          }
        }
      }
    },
    {
      "cell_type": "markdown",
      "source": [
        "## Best Model\n",
        "\n",
        "TODO: In the cell below, get the best model from the automl experiments and display all the properties of the model.\n",
        "\n"
      ],
      "metadata": {}
    },
    {
      "cell_type": "code",
      "source": [
        "best_run, fitted_model = remote_run.get_output()\n",
        "# Print the best run\n",
        "print(best_run)\n",
        "# Get all metrics of the best run\n",
        "best_run_metrics = best_run.get_metrics()\n",
        " \n",
        "# Print all metrics of the best run\n",
        "for metric_name in best_run_metrics:\n",
        "    metric = best_run_metrics[metric_name]\n",
        "    print(metric_name, metric)"
      ],
      "outputs": [
        {
          "output_type": "stream",
          "name": "stderr",
          "text": "WARNING:root:The version of the SDK does not match the version the model was trained on.\nWARNING:root:The consistency in the result may not be guaranteed.\nWARNING:root:Package:azureml-automl-core, training version:1.52.0.post1, current version:1.51.0.post1\nPackage:azureml-automl-runtime, training version:1.52.0.post1, current version:1.51.0.post1\nPackage:azureml-core, training version:1.52.0, current version:1.51.0\nPackage:azureml-dataprep, training version:4.11.4, current version:4.10.8\nPackage:azureml-dataprep-rslex, training version:2.18.4, current version:2.17.12\nPackage:azureml-dataset-runtime, training version:1.52.0, current version:1.51.0\nPackage:azureml-defaults, training version:1.52.0, current version:1.51.0\nPackage:azureml-interpret, training version:1.52.0, current version:1.51.0\nPackage:azureml-mlflow, training version:1.52.0, current version:1.51.0\nPackage:azureml-pipeline-core, training version:1.52.0, current version:1.51.0\nPackage:azureml-responsibleai, training version:1.52.0, current version:1.51.0\nPackage:azureml-telemetry, training version:1.52.0, current version:1.51.0\nPackage:azureml-train-automl-client, training version:1.52.0, current version:1.51.0.post1\nPackage:azureml-train-automl-runtime, training version:1.52.0, current version:1.51.0.post2\nPackage:azureml-train-core, training version:1.52.0, current version:1.51.0\nPackage:azureml-train-restclients-hyperdrive, training version:1.52.0, current version:1.51.0\nPackage:azureml-training-tabular, training version:1.52.0, current version:1.51.0.post1\nWARNING:root:Please ensure the version of your local conda dependencies match the version on which your model was trained in order to properly retrieve your model.\n"
        },
        {
          "output_type": "stream",
          "name": "stdout",
          "text": "Run(Experiment: automl-capston-1,\nId: AutoML_801f076f-8f9e-4370-8baf-fc4dd1357129_43,\nType: azureml.scriptrun,\nStatus: Completed)\nmatthews_correlation 0.6431941339840718\nAUC_micro 0.9254583168186024\nlog_loss 0.3922091891117527\nprecision_score_weighted 0.8558205013850573\nf1_score_micro 0.8459770114942529\nbalanced_accuracy 0.8133972278357289\nrecall_score_macro 0.8133972278357289\nrecall_score_micro 0.8459770114942529\nAUC_macro 0.9197910773585258\naverage_precision_score_weighted 0.9336780077598512\naverage_precision_score_micro 0.9292329522586144\nweighted_accuracy 0.8668847013162064\nrecall_score_weighted 0.8459770114942529\naccuracy 0.8459770114942529\nnorm_macro_recall 0.6267944556714579\naverage_precision_score_macro 0.9118877715898369\nprecision_score_macro 0.8311809514650408\nAUC_weighted 0.919791077358526\nf1_score_macro 0.8135841361454466\nf1_score_weighted 0.8430504070326592\nprecision_score_micro 0.8459770114942529\naccuracy_table aml://artifactId/ExperimentRun/dcid.AutoML_801f076f-8f9e-4370-8baf-fc4dd1357129_43/accuracy_table\nconfusion_matrix aml://artifactId/ExperimentRun/dcid.AutoML_801f076f-8f9e-4370-8baf-fc4dd1357129_43/confusion_matrix\n"
        }
      ],
      "execution_count": 8,
      "metadata": {
        "gather": {
          "logged": 1707463467650
        },
        "jupyter": {
          "outputs_hidden": false,
          "source_hidden": false
        },
        "nteract": {
          "transient": {
            "deleting": false
          }
        }
      }
    },
    {
      "cell_type": "code",
      "source": [
        "#TODO: Save the best model\n",
        "best_model = best_run.register_model(model_path='outputs/model.pkl', model_name='automl_best_model_capstone',\n",
        "                        properties={'AUC_weighted': best_run_metrics['AUC_weighted']})\n",
        " \n",
        "print(best_model)"
      ],
      "outputs": [
        {
          "output_type": "stream",
          "name": "stdout",
          "text": "Model(workspace=Workspace.create(name='quick-starts-ws-252189', subscription_id='a0a76bad-11a1-4a2d-9887-97a29122c8ed', resource_group='aml-quickstarts-252189'), name=automl_best_model_capstone, id=automl_best_model_capstone:1, version=1, tags={}, properties={'AUC_weighted': '0.919791077358526'})\n"
        }
      ],
      "execution_count": 10,
      "metadata": {
        "gather": {
          "logged": 1707463509515
        },
        "jupyter": {
          "outputs_hidden": false,
          "source_hidden": false
        },
        "nteract": {
          "transient": {
            "deleting": false
          }
        }
      }
    },
    {
      "cell_type": "markdown",
      "source": [
        "## Model Deployment\n",
        "\n",
        "Remember you have to deploy only one of the two models you trained but you still need to register both the models. Perform the steps in the rest of this notebook only if you wish to deploy this model.\n",
        "\n",
        "TODO: In the cell below, register the model, create an inference config and deploy the model as a web service."
      ],
      "metadata": {}
    },
    {
      "cell_type": "code",
      "source": [
        "import os\n",
        "os.getcwd()\n",
        "from azureml.core import Model"
      ],
      "outputs": [],
      "execution_count": 14,
      "metadata": {
        "gather": {
          "logged": 1707465661380
        },
        "jupyter": {
          "outputs_hidden": false,
          "source_hidden": false
        },
        "nteract": {
          "transient": {
            "deleting": false
          }
        }
      }
    },
    {
      "cell_type": "markdown",
      "source": [
        "TODO: In the cell below, send a request to the web service you deployed to test it."
      ],
      "metadata": {
        "collapsed": true,
        "gather": {
          "logged": 1598431657736
        },
        "jupyter": {
          "outputs_hidden": false,
          "source_hidden": false
        },
        "nteract": {
          "transient": {
            "deleting": false
          }
        }
      }
    },
    {
      "cell_type": "code",
      "source": [
        "\n",
        "# Download scoring file \n",
        "best_run.download_file('outputs/scoring_file_v_1_0_0.py', 'scoreScript.py')\n",
        "\n",
        "# Download environment file\n",
        "best_run.download_file('outputs/conda_env_v_1_0_0.yml', 'envFile.yml')"
      ],
      "outputs": [],
      "execution_count": 13,
      "metadata": {
        "gather": {
          "logged": 1707465605858
        },
        "jupyter": {
          "outputs_hidden": false,
          "source_hidden": false
        },
        "nteract": {
          "transient": {
            "deleting": false
          }
        }
      }
    },
    {
      "cell_type": "markdown",
      "source": [
        "TODO: In the cell below, print the logs of the web service and delete the service"
      ],
      "metadata": {
        "collapsed": true,
        "gather": {
          "logged": 1598432765711
        },
        "jupyter": {
          "outputs_hidden": false,
          "source_hidden": false
        },
        "nteract": {
          "transient": {
            "deleting": false
          }
        }
      }
    },
    {
      "cell_type": "code",
      "source": [
        "from azureml.core.environment import Environment\n",
        "from azureml.core.model import InferenceConfig\n",
        "\n",
        "inference_config = InferenceConfig(entry_script='scoreScript.py',\n",
        "                                    environment=best_run.get_environment())\n",
        "\n",
        "# deploy\n",
        "from azureml.core.webservice import AciWebservice\n",
        "\n",
        "deployment_config = AciWebservice.deploy_configuration(cpu_cores = 1, memory_gb = 1)\n",
        "service = Model.deploy(ws, \"myservice\", [best_model], inference_config, deployment_config)\n",
        "service.wait_for_deployment(show_output = True)\n",
        "print(service.state)\n",
        "\n",
        "print(service.scoring_uri)\n",
        "\n",
        "print(service.swagger_uri)"
      ],
      "outputs": [
        {
          "output_type": "stream",
          "name": "stdout",
          "text": "Tips: You can try get_logs(): https://aka.ms/debugimage#dockerlog or local deployment: https://aka.ms/debugimage#debug-locally to debug if deployment takes longer than 10 minutes.\nRunning\n2024-02-09 08:01:18+00:00 Creating Container Registry if not exists.\n2024-02-09 08:01:19+00:00 Registering the environment.\n2024-02-09 08:01:19+00:00 Use the existing image.\n2024-02-09 08:01:20+00:00 Submitting deployment to compute.\n2024-02-09 08:01:25+00:00 Checking the status of deployment myservice..\n2024-02-09 08:03:39+00:00 Checking the status of inference endpoint myservice.\nSucceeded\nACI service creation operation finished, operation \"Succeeded\"\nHealthy\nhttp://078460ad-dc34-4630-8431-c04d008bf1f0.southcentralus.azurecontainer.io/score\nhttp://078460ad-dc34-4630-8431-c04d008bf1f0.southcentralus.azurecontainer.io/swagger.json\n"
        }
      ],
      "execution_count": 15,
      "metadata": {
        "jupyter": {
          "outputs_hidden": false,
          "source_hidden": false
        },
        "nteract": {
          "transient": {
            "deleting": false
          }
        },
        "gather": {
          "logged": 1707465844066
        }
      }
    },
    {
      "cell_type": "code",
      "source": [
        "import json\n",
        "\n",
        "#Import test data\n",
        "test_df = df.sample(5) # data is the pandas dataframe of the original data\n",
        "label_df = test_df.pop('DEATH_EVENT')\n",
        "\n",
        "test_sample = json.dumps({'data': test_df.to_dict(orient='records')})\n",
        "\n",
        "print(test_sample)"
      ],
      "outputs": [
        {
          "output_type": "stream",
          "name": "stdout",
          "text": "{\"data\": [{\"age\": 42.0, \"anaemia\": 0, \"creatinine_phosphokinase\": 5209, \"diabetes\": 0, \"ejection_fraction\": 30, \"high_blood_pressure\": 0, \"platelets\": 226000.0, \"serum_creatinine\": 1.0, \"serum_sodium\": 140, \"sex\": 1, \"smoking\": 1, \"time\": 87}, {\"age\": 45.0, \"anaemia\": 0, \"creatinine_phosphokinase\": 7702, \"diabetes\": 1, \"ejection_fraction\": 25, \"high_blood_pressure\": 1, \"platelets\": 390000.0, \"serum_creatinine\": 1.0, \"serum_sodium\": 139, \"sex\": 1, \"smoking\": 0, \"time\": 60}, {\"age\": 80.0, \"anaemia\": 0, \"creatinine_phosphokinase\": 776, \"diabetes\": 1, \"ejection_fraction\": 38, \"high_blood_pressure\": 1, \"platelets\": 192000.0, \"serum_creatinine\": 1.3, \"serum_sodium\": 135, \"sex\": 0, \"smoking\": 0, \"time\": 130}, {\"age\": 52.0, \"anaemia\": 0, \"creatinine_phosphokinase\": 132, \"diabetes\": 0, \"ejection_fraction\": 30, \"high_blood_pressure\": 0, \"platelets\": 218000.0, \"serum_creatinine\": 0.7, \"serum_sodium\": 136, \"sex\": 1, \"smoking\": 1, \"time\": 112}, {\"age\": 90.0, \"anaemia\": 1, \"creatinine_phosphokinase\": 47, \"diabetes\": 0, \"ejection_fraction\": 40, \"high_blood_pressure\": 1, \"platelets\": 204000.0, \"serum_creatinine\": 2.1, \"serum_sodium\": 132, \"sex\": 1, \"smoking\": 1, \"time\": 8}]}\n"
        }
      ],
      "execution_count": 16,
      "metadata": {
        "jupyter": {
          "source_hidden": false,
          "outputs_hidden": false
        },
        "nteract": {
          "transient": {
            "deleting": false
          }
        },
        "gather": {
          "logged": 1707465862545
        }
      }
    },
    {
      "cell_type": "code",
      "source": [
        "import requests # Used for http post request\n",
        "\n",
        "# Set the content type\n",
        "headers = {'Content-type': 'application/json'}\n",
        "\n",
        "\n",
        "response = requests.post(service.scoring_uri, test_sample, headers=headers)"
      ],
      "outputs": [],
      "execution_count": 17,
      "metadata": {
        "jupyter": {
          "source_hidden": false,
          "outputs_hidden": false
        },
        "nteract": {
          "transient": {
            "deleting": false
          }
        },
        "gather": {
          "logged": 1707465875573
        }
      }
    },
    {
      "cell_type": "code",
      "source": [
        "print(response.text)"
      ],
      "outputs": [
        {
          "output_type": "stream",
          "name": "stdout",
          "text": "\"{\\\"result\\\": [0, 1, 1, 0, 1]}\"\n"
        }
      ],
      "execution_count": 18,
      "metadata": {
        "jupyter": {
          "source_hidden": false,
          "outputs_hidden": false
        },
        "nteract": {
          "transient": {
            "deleting": false
          }
        },
        "gather": {
          "logged": 1707465884551
        }
      }
    },
    {
      "cell_type": "code",
      "source": [
        "print(service.get_logs())"
      ],
      "outputs": [
        {
          "output_type": "stream",
          "name": "stdout",
          "text": "2024-02-09T08:03:24,395144600+00:00 - rsyslog/run \n2024-02-09T08:03:24,411972900+00:00 - gunicorn/run \n2024-02-09T08:03:24,418186300+00:00 | gunicorn/run | \n2024-02-09T08:03:24,422338900+00:00 | gunicorn/run | ###############################################\n2024-02-09T08:03:24,428830400+00:00 | gunicorn/run | AzureML Container Runtime Information\n2024-02-09T08:03:24,436351500+00:00 | gunicorn/run | ###############################################\n2024-02-09T08:03:24,438136900+00:00 - nginx/run \n2024-02-09T08:03:24,440394900+00:00 | gunicorn/run | \n2024-02-09T08:03:24,452862700+00:00 | gunicorn/run | \n2024-02-09T08:03:24,472714100+00:00 | gunicorn/run | AzureML image information: openmpi4.1.0-ubuntu20.04, Materializaton Build:20230628.v2\n2024-02-09T08:03:24,475918300+00:00 | gunicorn/run | \n2024-02-09T08:03:24,482737600+00:00 | gunicorn/run | \n2024-02-09T08:03:24,485019400+00:00 | gunicorn/run | PATH environment variable: /azureml-envs/azureml-automl/bin:/opt/miniconda/bin:/usr/local/sbin:/usr/local/bin:/usr/sbin:/usr/bin:/sbin:/bin\n2024-02-09T08:03:24,491851800+00:00 | gunicorn/run | PYTHONPATH environment variable: \n2024-02-09T08:03:24,494127400+00:00 | gunicorn/run | \n2024-02-09T08:03:25,993390867+00:00 | gunicorn/run | CONDAPATH environment variable: /opt/miniconda\n\n# conda environments:\n#\n                         /azureml-envs/azureml-automl\nbase                     /opt/miniconda\n\n2024-02-09T08:03:27,933005408+00:00 | gunicorn/run | \n2024-02-09T08:03:27,934898514+00:00 | gunicorn/run | Pip Dependencies (before dynamic installation)\n\nadal==1.2.7\napplicationinsights==0.11.10\narch==5.3.1\nargcomplete==2.1.2\nargon2-cffi==21.3.0\nargon2-cffi-bindings==21.2.0\nasttokens==2.2.1\nattrs==23.1.0\nazure-common==1.1.28\nazure-core==1.27.1\nazure-graphrbac==0.61.1\nazure-identity==1.13.0\nazure-mgmt-authorization==3.0.0\nazure-mgmt-containerregistry==10.1.0\nazure-mgmt-core==1.4.0\nazure-mgmt-keyvault==10.2.2\nazure-mgmt-resource==22.0.0\nazure-mgmt-storage==21.0.0\nazure-storage-blob==12.13.0\nazure-storage-queue==12.6.0\nazureml-automl-core==1.52.0.post1\nazureml-automl-runtime==1.52.0.post1\nazureml-core==1.52.0\nazureml-dataprep==4.11.4\nazureml-dataprep-native==38.0.0\nazureml-dataprep-rslex==2.18.4\nazureml-dataset-runtime==1.52.0\nazureml-defaults==1.52.0\nazureml-inference-server-http==0.8.4\nazureml-interpret==1.52.0\nazureml-mlflow==1.52.0\nazureml-pipeline-core==1.52.0\nazureml-responsibleai==1.52.0\nazureml-telemetry==1.52.0\nazureml-train-automl-client==1.52.0\nazureml-train-automl-runtime==1.52.0\nazureml-train-core==1.52.0\nazureml-train-restclients-hyperdrive==1.52.0\nazureml-training-tabular==1.52.0\nbackcall==0.2.0\nbackports.tempfile==1.0\nbackports.weakref==1.0.post1\nbcrypt==4.0.1\nbeautifulsoup4==4.12.2\nbleach==6.0.0\nbokeh==2.4.3\nboto==2.49.0\nboto3==1.20.19\nbotocore==1.23.19\nBrotli @ file:///home/conda/feedstock_root/build_artifacts/brotli-split_1687884021435/work\ncachetools==5.3.1\ncertifi==2023.5.7\ncffi @ file:///home/conda/feedstock_root/build_artifacts/cffi_1671179356964/work\ncharset-normalizer @ file:///home/conda/feedstock_root/build_artifacts/charset-normalizer_1678108872112/work\nclick==8.1.4\ncloudpickle @ file:///home/conda/feedstock_root/build_artifacts/cloudpickle_1598400192773/work\ncmdstanpy==0.9.5\ncontextlib2==21.6.0\ncontourpy==1.1.0\nconvertdate @ file:///home/conda/feedstock_root/build_artifacts/convertdate_1642883757836/work\ncryptography==41.0.0\ncycler==0.11.0\nCython==0.29.17\ndask==2023.2.0\ndatabricks-cli==0.17.7\ndataclasses==0.6\ndebugpy==1.6.7\ndecorator==5.1.1\ndefusedxml==0.7.1\ndice-ml==0.9\ndill==0.3.6\ndistributed==2023.2.0\ndistro==1.8.0\ndocker==6.1.3\ndotnetcore2==3.1.23\neconml==0.14.1\nentrypoints==0.4\nephem==4.1.4\nerroranalysis==0.4.4\nexecuting==1.2.0\nfairlearn==0.8.0\nfastjsonschema==2.17.1\nfbprophet==0.7.1\nfire==0.5.0\nFlask==2.2.5\nFlask-Cors==3.0.10\nflatbuffers==23.5.26\nfonttools==4.40.0\nfsspec==2023.6.0\nfusepy==3.0.1\ngensim==3.8.3\ngitdb==4.0.10\nGitPython==3.1.31\ngoogle-api-core==2.11.1\ngoogle-auth==2.21.0\ngoogleapis-common-protos==1.59.1\ngunicorn==20.1.0\nh5py==3.9.0\nholidays @ file:///home/conda/feedstock_root/build_artifacts/holidays_1595448845196/work\nhumanfriendly==10.0\nidna @ file:///home/conda/feedstock_root/build_artifacts/idna_1663625384323/work\nimportlib-metadata==6.8.0\nimportlib-resources==5.13.0\ninference-schema==1.5.1\ninterpret-community==0.29.0\ninterpret-core==0.3.2\nipykernel==6.8.0\nipython==8.12.2\nipython-genutils==0.2.0\nisodate==0.6.1\nitsdangerous==2.1.2\njedi==0.18.2\njeepney==0.8.0\nJinja2==3.1.2\njmespath==0.10.0\njoblib @ file:///home/conda/feedstock_root/build_artifacts/joblib_1663332044897/work\njsonpickle==3.0.1\njsonschema==4.18.0\njsonschema-specifications==2023.6.1\njupyter_client==7.4.9\njupyter_core==5.3.1\njupyterlab-pygments==0.2.2\nkeras2onnx==1.6.0\nkiwisolver==1.4.4\nknack==0.10.1\nkorean-lunar-calendar @ file:///home/conda/feedstock_root/build_artifacts/korean_lunar_calendar_1663341251025/work\nlightgbm==3.2.1\nllvmlite==0.38.1\nlocket==1.0.0\nLunarCalendar==0.0.9\nMarkupSafe==2.1.2\nmatplotlib==3.7.2\nmatplotlib-inline==0.1.6\nmistune==3.0.1\nml-wrappers==0.4.11\nmlflow-skinny==2.4.1\nmltable==1.4.1\nmsal==1.22.0\nmsal-extensions==1.0.0\nmsgpack==1.0.5\nmsrest==0.7.1\nmsrestazure==0.6.4\nnbclient==0.8.0\nnbconvert==7.6.0\nnbformat==5.9.0\nndg-httpsclient==0.5.1\nnest-asyncio==1.5.6\nnetworkx==2.5\nnotebook==6.4.9\nnumba==0.55.2\nnumpy==1.22.3\noauthlib==3.2.2\nonnx==1.13.1\nonnxconverter-common==1.6.0\nonnxmltools==1.4.1\nonnxruntime==1.11.1\nopencensus==0.11.2\nopencensus-context==0.1.3\nopencensus-ext-azure==1.1.9\npackaging==23.0\npandas==1.1.5\npandocfilters==1.5.0\nparamiko==3.2.0\nparso==0.8.3\npartd==1.4.0\npathspec==0.11.1\npatsy==0.5.3\npexpect==4.8.0\npickleshare==0.7.5\nPillow==10.0.0\npkginfo==1.9.6\npkgutil_resolve_name==1.3.10\nplatformdirs @ file:///home/conda/feedstock_root/build_artifacts/platformdirs_1688739404342/work\npmdarima==1.8.0\npooch @ file:///home/conda/feedstock_root/build_artifacts/pooch_1679580333621/work\nportalocker==2.7.0\nprometheus-client==0.17.0\nprompt-toolkit==3.0.39\nproperty-cached==1.6.4\nprotobuf==3.20.3\npsutil @ file:///home/conda/feedstock_root/build_artifacts/psutil_1681775007745/work\nptyprocess==0.7.0\npure-eval==0.2.2\npy-cpuinfo==5.0.0\npyarrow==9.0.0\npyasn1==0.5.0\npyasn1-modules==0.3.0\npycparser @ file:///home/conda/feedstock_root/build_artifacts/pycparser_1636257122734/work\npydantic==1.10.11\nPygments==2.15.1\nPyJWT==2.7.0\nPyMeeus @ file:///home/conda/feedstock_root/build_artifacts/pymeeus_1670868433998/work\nPyNaCl==1.5.0\npyOpenSSL @ file:///home/conda/feedstock_root/build_artifacts/pyopenssl_1685514481738/work\npyparsing==3.0.9\nPySocks @ file:///home/conda/feedstock_root/build_artifacts/pysocks_1661604839144/work\npystan==2.19.1.1\npython-dateutil @ file:///home/conda/feedstock_root/build_artifacts/python-dateutil_1626286286081/work\npytz @ file:///home/conda/feedstock_root/build_artifacts/pytz_1680088766131/work\nPyYAML==6.0\npyzmq==25.1.0\nraiutils==0.4.0\nreferencing==0.29.1\nrequests @ file:///home/conda/feedstock_root/build_artifacts/requests_1684774241324/work\nrequests-oauthlib==1.3.1\nresponsibleai==0.28.0\nrpds-py==0.8.8\nrsa==4.9\ns3transfer==0.5.2\nscikit-learn==0.22.1\nscipy==1.5.3\nSecretStorage==3.3.3\nsemver==2.13.0\nSend2Trash==1.8.2\nsetuptools-git==1.2\nshap==0.41.0\nsix @ file:///home/conda/feedstock_root/build_artifacts/six_1620240208055/work\nskl2onnx==1.4.9\nsklearn-pandas==1.7.0\nslicer==0.0.7\nsmart-open==1.9.0\nsmmap==5.0.0\nsortedcontainers==2.4.0\nsoupsieve==2.4.1\nsparse==0.14.0\nsqlparse==0.4.4\nstack-data==0.6.2\nstatsmodels==0.11.1\ntabulate==0.9.0\ntblib==2.0.0\ntermcolor==2.3.0\nterminado==0.17.1\ntinycss2==1.2.1\ntoolz==0.12.0\ntornado==6.3.2\ntqdm==4.65.0\ntraitlets==5.9.0\ntyping_extensions @ file:///home/conda/feedstock_root/build_artifacts/typing_extensions_1688315532570/work\nurllib3==1.26.16\nwcwidth==0.2.6\nwebencodings==0.5.1\nwebsocket-client==1.6.1\nWerkzeug==2.3.6\nwrapt==1.12.1\nxgboost==1.3.3\nzict==3.0.0\nzipp==3.15.0\n\n2024-02-09T08:03:31,075185572+00:00 | gunicorn/run | \n2024-02-09T08:03:31,077676779+00:00 | gunicorn/run | ###############################################\n2024-02-09T08:03:31,083658495+00:00 | gunicorn/run | Checking if the Python package azureml-inference-server-http is installed\n2024-02-09T08:03:31,090342314+00:00 | gunicorn/run | ###############################################\n2024-02-09T08:03:31,103101648+00:00 | gunicorn/run | \n2024-02-09T08:03:36,234752142+00:00 | gunicorn/run | \n2024-02-09T08:03:36,241194958+00:00 | gunicorn/run | ###############################################\n2024-02-09T08:03:36,243319164+00:00 | gunicorn/run | AzureML Inference Server\n2024-02-09T08:03:36,245790671+00:00 | gunicorn/run | ###############################################\n2024-02-09T08:03:36,251526986+00:00 | gunicorn/run | \n2024-02-09T08:03:41,286021804+00:00 | gunicorn/run | Starting AzureML Inference Server HTTP.\n2024-02-09 08:03:41,836 I [73] azmlinfsrv - Loaded logging config from /azureml-envs/azureml-automl/lib/python3.8/site-packages/azureml_inference_server_http/logging.json\n2024-02-09 08:03:42,455 I [73] gunicorn.error - Starting gunicorn 20.1.0\n2024-02-09 08:03:42,458 I [73] gunicorn.error - Listening at: http://0.0.0.0:31311 (73)\n2024-02-09 08:03:42,458 I [73] gunicorn.error - Using worker: sync\n2024-02-09 08:03:42,463 I [149] gunicorn.error - Booting worker with pid: 149\n/azureml-envs/azureml-automl/lib/python3.8/site-packages/azureml_inference_server_http/server/config.py:51: FutureWarning: aliases are no longer used by BaseSettings to define which environment variables to read. Instead use the \"env\" field setting. See https://pydantic-docs.helpmanual.io/usage/settings/#environment-variable-names\n  class AMLInferenceServerConfig(pydantic.BaseSettings):\n\nAzure ML Inferencing HTTP server v0.8.4\n\n\nServer Settings\n---------------\nEntry Script Name: /var/azureml-app/main.py\nModel Directory: /var/azureml-app/azureml-models/automl_best_model_capstone/1\nConfig File: None\nWorker Count: 1\nWorker Timeout (seconds): 300\nServer Port: 31311\nHealth Port: 31311\nApplication Insights Enabled: false\nApplication Insights Key: None\nInferencing HTTP server version: azmlinfsrv/0.8.4\nCORS for the specified origins: None\nCreate dedicated endpoint for health: None\n\n\nServer Routes\n---------------\nLiveness Probe: GET   127.0.0.1:31311/\nScore:          POST  127.0.0.1:31311/score\n\n2024-02-09 08:03:43,919 I [149] azmlinfsrv - AML_FLASK_ONE_COMPATIBILITY is set. Patched Flask to ensure compatibility with Flask 1.\nInitializing logger\n2024-02-09 08:03:43,923 I [149] azmlinfsrv - Starting up app insights client\n2024-02-09 08:03:45,385 I [149] azmlinfsrv.user_script - Found driver script at /var/azureml-app/main.py and the score script at /var/azureml-app/scoreScript.py\n2024-02-09 08:03:45,389 I [149] azmlinfsrv.user_script - run() is decorated with @input_schema. Server will invoke it with the following arguments: data, method.\n2024-02-09 08:03:45,389 I [149] azmlinfsrv.user_script - Invoking user's init function\nERROR:fbprophet.plot:Importing plotly failed. Interactive plots will not work.\n2024-02-09 08:04:02,592 I [149] azmlinfsrv.user_script - Users's init has completed successfully\n2024-02-09 08:04:02,643 I [149] azmlinfsrv.swagger - Swaggers are prepared for the following versions: [2, 3, 3.1].\n2024-02-09 08:04:02,644 I [149] azmlinfsrv - Scoring timeout is set to 60000\n2024-02-09 08:04:02,653 I [149] gunicorn.access - 127.0.0.1 - - [09/Feb/2024:08:04:02 +0000] \"GET / HTTP/1.0\" 200 7 \"-\" \"curl/7.58.0\"\n2024-02-09 08:04:02,661 W [149] azmlinfsrv - x-ms-request-id header has been deprecated and will be removed from future versions of the server. Please use x-ms-client-request-id.\n2024-02-09 08:04:02,662 I [149] gunicorn.access - 127.0.0.1 - - [09/Feb/2024:08:04:02 +0000] \"GET / HTTP/1.0\" 200 7 \"-\" \"Go-http-client/1.1\"\n2024-02-09 08:04:02,670 W [149] azmlinfsrv - x-ms-request-id header has been deprecated and will be removed from future versions of the server. Please use x-ms-client-request-id.\n2024-02-09 08:04:02,670 I [149] azmlinfsrv - GET /swagger.json 200 0.776ms 3526\n2024-02-09 08:04:02,671 I [149] gunicorn.access - 127.0.0.1 - - [09/Feb/2024:08:04:02 +0000] \"GET /swagger.json HTTP/1.0\" 200 3526 \"-\" \"Go-http-client/1.1\"\n2024-02-09 08:04:03,737 W [149] azmlinfsrv - x-ms-request-id header has been deprecated and will be removed from future versions of the server. Please use x-ms-client-request-id.\n2024-02-09 08:04:03,744 I [149] gunicorn.access - 127.0.0.1 - - [09/Feb/2024:08:04:03 +0000] \"GET / HTTP/1.0\" 200 7 \"-\" \"Go-http-client/1.1\"\n2024-02-09 08:04:03,750 W [149] azmlinfsrv - x-ms-request-id header has been deprecated and will be removed from future versions of the server. Please use x-ms-client-request-id.\n2024-02-09 08:04:03,751 I [149] azmlinfsrv - GET /swagger.json 200 0.980ms 3526\n2024-02-09 08:04:03,752 I [149] gunicorn.access - 127.0.0.1 - - [09/Feb/2024:08:04:03 +0000] \"GET /swagger.json HTTP/1.0\" 200 3526 \"-\" \"Go-http-client/1.1\"\n2024-02-09 08:04:34,817 W [149] azmlinfsrv - x-ms-request-id header has been deprecated and will be removed from future versions of the server. Please use x-ms-client-request-id.\n2024-02-09 08:04:35,421 I [149] azmlinfsrv - POST /score 200 603.908ms 31\n2024-02-09 08:04:35,423 I [149] gunicorn.access - 127.0.0.1 - - [09/Feb/2024:08:04:35 +0000] \"POST /score HTTP/1.0\" 200 31 \"-\" \"python-requests/2.31.0\"\n\n"
        }
      ],
      "execution_count": 19,
      "metadata": {
        "jupyter": {
          "source_hidden": false,
          "outputs_hidden": false
        },
        "nteract": {
          "transient": {
            "deleting": false
          }
        },
        "gather": {
          "logged": 1707465891898
        }
      }
    },
    {
      "cell_type": "markdown",
      "source": [
        "**Submission Checklist**\n",
        "- I have registered the model.\n",
        "- I have deployed the model with the best accuracy as a webservice.\n",
        "- I have tested the webservice by sending a request to the model endpoint.\n",
        "- I have deleted the webservice and shutdown all the computes that I have used.\n",
        "- I have taken a screenshot showing the model endpoint as active.\n",
        "- The project includes a file containing the environment details.\n"
      ],
      "metadata": {}
    },
    {
      "cell_type": "code",
      "source": [],
      "outputs": [],
      "execution_count": null,
      "metadata": {
        "jupyter": {
          "source_hidden": false,
          "outputs_hidden": false
        },
        "nteract": {
          "transient": {
            "deleting": false
          }
        }
      }
    },
    {
      "cell_type": "markdown",
      "source": [],
      "metadata": {}
    }
  ],
  "metadata": {
    "kernel_info": {
      "name": "python38-azureml"
    },
    "kernelspec": {
      "name": "python38-azureml",
      "language": "python",
      "display_name": "Python 3.8 - AzureML"
    },
    "language_info": {
      "name": "python",
      "version": "3.8.5",
      "mimetype": "text/x-python",
      "codemirror_mode": {
        "name": "ipython",
        "version": 3
      },
      "pygments_lexer": "ipython3",
      "nbconvert_exporter": "python",
      "file_extension": ".py"
    },
    "nteract": {
      "version": "nteract-front-end@1.0.0"
    },
    "microsoft": {
      "host": {
        "AzureML": {
          "notebookHasBeenCompleted": true
        }
      },
      "ms_spell_check": {
        "ms_spell_check_language": "en"
      }
    }
  },
  "nbformat": 4,
  "nbformat_minor": 2
}